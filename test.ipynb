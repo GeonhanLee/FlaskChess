{
 "cells": [
  {
   "cell_type": "code",
   "outputs": [],
   "source": [
    "from __future__ import print_function\n",
    "\n",
    "import glob\n",
    "from itertools import chain\n",
    "import os\n",
    "import random\n",
    "import zipfile\n",
    "\n",
    "import matplotlib.pyplot as plt\n",
    "import numpy as np\n",
    "import pandas as pd\n",
    "import torch\n",
    "import torch.utils.data as data\n",
    "import torch.nn as nn\n",
    "import torch.nn.functional as F\n",
    "import torch.optim as optim\n",
    "from linformer import Linformer\n",
    "from PIL import Image\n",
    "from sklearn.model_selection import train_test_split\n",
    "from torch.optim.lr_scheduler import StepLR\n",
    "from torch.utils.data import DataLoader, Dataset\n",
    "from torchvision import datasets, transforms\n",
    "from tqdm.notebook import tqdm\n",
    "\n",
    "from vit_pytorch.efficient import ViT\n",
    "from vit_pytorch import SimpleViT"
   ],
   "metadata": {
    "collapsed": false,
    "ExecuteTime": {
     "end_time": "2024-06-22T07:21:30.914018Z",
     "start_time": "2024-06-22T07:21:30.907508Z"
    }
   },
   "id": "121d5f1227640168",
   "execution_count": 159
  },
  {
   "cell_type": "code",
   "outputs": [
    {
     "name": "stdout",
     "output_type": "stream",
     "text": [
      "Torch: 2.2.1\n"
     ]
    }
   ],
   "source": [
    "print(f\"Torch: {torch.__version__}\")"
   ],
   "metadata": {
    "collapsed": false,
    "ExecuteTime": {
     "end_time": "2024-06-22T07:21:30.929131Z",
     "start_time": "2024-06-22T07:21:30.916018Z"
    }
   },
   "id": "7e35639a270e67d",
   "execution_count": 160
  },
  {
   "cell_type": "code",
   "outputs": [
    {
     "name": "stdout",
     "output_type": "stream",
     "text": [
      "loading image dataset\n",
      "loading label dataset\n",
      "100014 100014\n"
     ]
    }
   ],
   "source": [
    "print(\"loading image dataset\")\n",
    "images = torch.load(\"boards2.pt\")\n",
    "print(\"loading label dataset\")\n",
    "labels = torch.load(\"labels2.pt\")\n",
    "print(len(images), len(labels))"
   ],
   "metadata": {
    "collapsed": false,
    "ExecuteTime": {
     "end_time": "2024-06-22T07:21:32.921152Z",
     "start_time": "2024-06-22T07:21:30.930132Z"
    }
   },
   "id": "ee896ad6bd894273",
   "execution_count": 161
  },
  {
   "cell_type": "code",
   "outputs": [],
   "source": [
    "# Hyperparameters:\n",
    "batch_size = 64\n",
    "epochs = 30\n",
    "lr = 5e-4\n",
    "gamma = 0.7\n",
    "seed = 142\n",
    "IMG_SIZE = 8\n",
    "patch_size = 2\n",
    "num_classes = 10\n",
    "dim = 128"
   ],
   "metadata": {
    "collapsed": false,
    "ExecuteTime": {
     "end_time": "2024-06-22T07:21:32.936391Z",
     "start_time": "2024-06-22T07:21:32.922152Z"
    }
   },
   "id": "2615034187fe18e7",
   "execution_count": 162
  },
  {
   "cell_type": "code",
   "outputs": [],
   "source": [
    "device = 'cuda'"
   ],
   "metadata": {
    "collapsed": false,
    "ExecuteTime": {
     "end_time": "2024-06-22T07:21:32.952097Z",
     "start_time": "2024-06-22T07:21:32.938493Z"
    }
   },
   "id": "dad879bb033a74a2",
   "execution_count": 163
  },
  {
   "cell_type": "code",
   "outputs": [],
   "source": [
    "class CustomChessDataset(Dataset):\n",
    "    def __init__(self):\n",
    "        pass\n",
    "\n",
    "    def __len__(self):\n",
    "        return len(labels)\n",
    "\n",
    "    def __getitem__(self, idx):\n",
    "        label = labels[idx]\n",
    "        img = images[idx]\n",
    "        return img, label"
   ],
   "metadata": {
    "collapsed": false,
    "ExecuteTime": {
     "end_time": "2024-06-22T07:21:32.967156Z",
     "start_time": "2024-06-22T07:21:32.953134Z"
    }
   },
   "id": "e1e998293f26bd5",
   "execution_count": 164
  },
  {
   "cell_type": "code",
   "outputs": [
    {
     "name": "stdout",
     "output_type": "stream",
     "text": [
      "Train size:  80011\n",
      "Test size:  20003\n"
     ]
    }
   ],
   "source": [
    "import torch.utils.data as data\n",
    "\n",
    "full_dataset = CustomChessDataset()\n",
    "\n",
    "train_size = int(0.8 * len(full_dataset))\n",
    "test_size = len(full_dataset) - train_size\n",
    "\n",
    "print(\"Train size: \", train_size)\n",
    "print(\"Test size: \", test_size)\n",
    "\n",
    "train_dataset, test_dataset = torch.utils.data.random_split(full_dataset, [train_size, test_size])\n",
    "\n",
    "# Data Loaders:\n",
    "train_loader = data.DataLoader(train_dataset, batch_size=batch_size, shuffle=True)\n",
    "valid_loader = data.DataLoader(test_dataset, batch_size=batch_size, shuffle=True)"
   ],
   "metadata": {
    "collapsed": false,
    "ExecuteTime": {
     "end_time": "2024-06-22T07:21:32.982619Z",
     "start_time": "2024-06-22T07:21:32.968163Z"
    }
   },
   "id": "92966bb0427c60f6",
   "execution_count": 165
  },
  {
   "cell_type": "code",
   "outputs": [],
   "source": [
    "# Linear Transformer:\n",
    "efficient_transformer = Linformer(\n",
    "    dim=dim,\n",
    "    seq_len= 65,\n",
    "    depth=12,\n",
    "    heads=8,\n",
    "    k=64\n",
    ")\n",
    "\n",
    "# Vision Transformer Model:\n",
    "model = ViT(dim=dim, image_size=IMG_SIZE, patch_size=patch_size, num_classes=num_classes, transformer=efficient_transformer, channels=1).to(device)\n",
    "\n",
    "# loss function\n",
    "criterion = nn.CrossEntropyLoss()\n",
    "\n",
    "# Optimizer\n",
    "optimizer = optim.Adam(model.parameters(), lr=lr)\n",
    "\n",
    "# Learning Rate Scheduler for Optimizer:\n",
    "scheduler = StepLR(optimizer, step_size=1, gamma=gamma)"
   ],
   "metadata": {
    "collapsed": false,
    "ExecuteTime": {
     "end_time": "2024-06-22T07:21:33.014265Z",
     "start_time": "2024-06-22T07:21:32.983620Z"
    }
   },
   "id": "462ab2abb374d567",
   "execution_count": 166
  },
  {
   "cell_type": "code",
   "outputs": [
    {
     "data": {
      "text/plain": "  0%|          | 0/1251 [00:00<?, ?it/s]",
      "application/vnd.jupyter.widget-view+json": {
       "version_major": 2,
       "version_minor": 0,
       "model_id": "342407fd60ae429cb3463872083ada89"
      }
     },
     "metadata": {},
     "output_type": "display_data"
    },
    {
     "name": "stdout",
     "output_type": "stream",
     "text": [
      "Epoch : 1 - loss : 1.6715 - acc: 0.3140 - val_loss : 1.6015 - val_acc: 0.3391\n"
     ]
    },
    {
     "data": {
      "text/plain": "  0%|          | 0/1251 [00:00<?, ?it/s]",
      "application/vnd.jupyter.widget-view+json": {
       "version_major": 2,
       "version_minor": 0,
       "model_id": "ddb6f35be1e240419d7a8bc2247a79a6"
      }
     },
     "metadata": {},
     "output_type": "display_data"
    },
    {
     "name": "stdout",
     "output_type": "stream",
     "text": [
      "Epoch : 2 - loss : 1.5430 - acc: 0.3665 - val_loss : 1.5435 - val_acc: 0.3671\n"
     ]
    },
    {
     "data": {
      "text/plain": "  0%|          | 0/1251 [00:00<?, ?it/s]",
      "application/vnd.jupyter.widget-view+json": {
       "version_major": 2,
       "version_minor": 0,
       "model_id": "3fa19387fc334b16ac6d37b836158e65"
      }
     },
     "metadata": {},
     "output_type": "display_data"
    },
    {
     "name": "stdout",
     "output_type": "stream",
     "text": [
      "Epoch : 3 - loss : 1.4446 - acc: 0.4119 - val_loss : 1.5041 - val_acc: 0.3893\n"
     ]
    },
    {
     "data": {
      "text/plain": "  0%|          | 0/1251 [00:00<?, ?it/s]",
      "application/vnd.jupyter.widget-view+json": {
       "version_major": 2,
       "version_minor": 0,
       "model_id": "78ddeb338ac14f9987ddf82c0c79660b"
      }
     },
     "metadata": {},
     "output_type": "display_data"
    },
    {
     "name": "stdout",
     "output_type": "stream",
     "text": [
      "Epoch : 4 - loss : 1.3484 - acc: 0.4532 - val_loss : 1.4661 - val_acc: 0.4050\n"
     ]
    },
    {
     "data": {
      "text/plain": "  0%|          | 0/1251 [00:00<?, ?it/s]",
      "application/vnd.jupyter.widget-view+json": {
       "version_major": 2,
       "version_minor": 0,
       "model_id": "241e60b96c6148b7b4766b705ee1702d"
      }
     },
     "metadata": {},
     "output_type": "display_data"
    },
    {
     "name": "stdout",
     "output_type": "stream",
     "text": [
      "Epoch : 5 - loss : 1.2591 - acc: 0.4887 - val_loss : 1.4288 - val_acc: 0.4290\n"
     ]
    },
    {
     "data": {
      "text/plain": "  0%|          | 0/1251 [00:00<?, ?it/s]",
      "application/vnd.jupyter.widget-view+json": {
       "version_major": 2,
       "version_minor": 0,
       "model_id": "d28aeb4a36a24377b3deb155c9b4d11a"
      }
     },
     "metadata": {},
     "output_type": "display_data"
    },
    {
     "name": "stdout",
     "output_type": "stream",
     "text": [
      "Epoch : 6 - loss : 1.1747 - acc: 0.5270 - val_loss : 1.4305 - val_acc: 0.4374\n"
     ]
    },
    {
     "data": {
      "text/plain": "  0%|          | 0/1251 [00:00<?, ?it/s]",
      "application/vnd.jupyter.widget-view+json": {
       "version_major": 2,
       "version_minor": 0,
       "model_id": "31403b72d43a4c0bac28fd4009293767"
      }
     },
     "metadata": {},
     "output_type": "display_data"
    },
    {
     "name": "stdout",
     "output_type": "stream",
     "text": [
      "Epoch : 7 - loss : 1.0966 - acc: 0.5583 - val_loss : 1.3991 - val_acc: 0.4510\n"
     ]
    },
    {
     "data": {
      "text/plain": "  0%|          | 0/1251 [00:00<?, ?it/s]",
      "application/vnd.jupyter.widget-view+json": {
       "version_major": 2,
       "version_minor": 0,
       "model_id": "e45a319d76b54f6b84a8193d1125994d"
      }
     },
     "metadata": {},
     "output_type": "display_data"
    },
    {
     "name": "stdout",
     "output_type": "stream",
     "text": [
      "Epoch : 8 - loss : 1.0101 - acc: 0.5942 - val_loss : 1.4067 - val_acc: 0.4640\n"
     ]
    },
    {
     "data": {
      "text/plain": "  0%|          | 0/1251 [00:00<?, ?it/s]",
      "application/vnd.jupyter.widget-view+json": {
       "version_major": 2,
       "version_minor": 0,
       "model_id": "89d1e85e413e42d48adac21ea46f4565"
      }
     },
     "metadata": {},
     "output_type": "display_data"
    },
    {
     "name": "stdout",
     "output_type": "stream",
     "text": [
      "Epoch : 9 - loss : 0.9259 - acc: 0.6252 - val_loss : 1.4134 - val_acc: 0.4676\n"
     ]
    },
    {
     "data": {
      "text/plain": "  0%|          | 0/1251 [00:00<?, ?it/s]",
      "application/vnd.jupyter.widget-view+json": {
       "version_major": 2,
       "version_minor": 0,
       "model_id": "3756de90492a46b69c1befeceb63b6ff"
      }
     },
     "metadata": {},
     "output_type": "display_data"
    },
    {
     "name": "stdout",
     "output_type": "stream",
     "text": [
      "Epoch : 10 - loss : 0.8369 - acc: 0.6607 - val_loss : 1.4384 - val_acc: 0.4814\n"
     ]
    },
    {
     "data": {
      "text/plain": "  0%|          | 0/1251 [00:00<?, ?it/s]",
      "application/vnd.jupyter.widget-view+json": {
       "version_major": 2,
       "version_minor": 0,
       "model_id": "5dc1e6a86e6f44f3a4b2d226981fcbe3"
      }
     },
     "metadata": {},
     "output_type": "display_data"
    },
    {
     "name": "stdout",
     "output_type": "stream",
     "text": [
      "Epoch : 11 - loss : 0.7492 - acc: 0.6959 - val_loss : 1.4615 - val_acc: 0.4866\n"
     ]
    },
    {
     "data": {
      "text/plain": "  0%|          | 0/1251 [00:00<?, ?it/s]",
      "application/vnd.jupyter.widget-view+json": {
       "version_major": 2,
       "version_minor": 0,
       "model_id": "dff03c81151b4b5b872b23dd40aeeb58"
      }
     },
     "metadata": {},
     "output_type": "display_data"
    },
    {
     "name": "stdout",
     "output_type": "stream",
     "text": [
      "Epoch : 12 - loss : 0.6665 - acc: 0.7280 - val_loss : 1.4874 - val_acc: 0.5016\n"
     ]
    },
    {
     "data": {
      "text/plain": "  0%|          | 0/1251 [00:00<?, ?it/s]",
      "application/vnd.jupyter.widget-view+json": {
       "version_major": 2,
       "version_minor": 0,
       "model_id": "51b8ce55ea094b75a5de321e3c4ed665"
      }
     },
     "metadata": {},
     "output_type": "display_data"
    },
    {
     "name": "stdout",
     "output_type": "stream",
     "text": [
      "Epoch : 13 - loss : 0.5922 - acc: 0.7587 - val_loss : 1.5318 - val_acc: 0.5054\n"
     ]
    },
    {
     "data": {
      "text/plain": "  0%|          | 0/1251 [00:00<?, ?it/s]",
      "application/vnd.jupyter.widget-view+json": {
       "version_major": 2,
       "version_minor": 0,
       "model_id": "5772304b1d00487186977332567d7b3f"
      }
     },
     "metadata": {},
     "output_type": "display_data"
    },
    {
     "name": "stdout",
     "output_type": "stream",
     "text": [
      "Epoch : 14 - loss : 0.5223 - acc: 0.7863 - val_loss : 1.5831 - val_acc: 0.5068\n"
     ]
    },
    {
     "data": {
      "text/plain": "  0%|          | 0/1251 [00:00<?, ?it/s]",
      "application/vnd.jupyter.widget-view+json": {
       "version_major": 2,
       "version_minor": 0,
       "model_id": "272cdbbd02c8489cbaa915744984d415"
      }
     },
     "metadata": {},
     "output_type": "display_data"
    },
    {
     "name": "stdout",
     "output_type": "stream",
     "text": [
      "Epoch : 15 - loss : 0.4665 - acc: 0.8087 - val_loss : 1.6092 - val_acc: 0.5208\n"
     ]
    },
    {
     "data": {
      "text/plain": "  0%|          | 0/1251 [00:00<?, ?it/s]",
      "application/vnd.jupyter.widget-view+json": {
       "version_major": 2,
       "version_minor": 0,
       "model_id": "4ac6f898ffbd411e9d528d6281856364"
      }
     },
     "metadata": {},
     "output_type": "display_data"
    },
    {
     "name": "stdout",
     "output_type": "stream",
     "text": [
      "Epoch : 16 - loss : 0.4199 - acc: 0.8253 - val_loss : 1.6650 - val_acc: 0.5235\n"
     ]
    },
    {
     "data": {
      "text/plain": "  0%|          | 0/1251 [00:00<?, ?it/s]",
      "application/vnd.jupyter.widget-view+json": {
       "version_major": 2,
       "version_minor": 0,
       "model_id": "58a0e37dbc554300b9ab8bae7c783d78"
      }
     },
     "metadata": {},
     "output_type": "display_data"
    },
    {
     "name": "stdout",
     "output_type": "stream",
     "text": [
      "Epoch : 17 - loss : 0.3852 - acc: 0.8389 - val_loss : 1.7381 - val_acc: 0.5249\n"
     ]
    },
    {
     "data": {
      "text/plain": "  0%|          | 0/1251 [00:00<?, ?it/s]",
      "application/vnd.jupyter.widget-view+json": {
       "version_major": 2,
       "version_minor": 0,
       "model_id": "209e81476dd14221b45f634a41945bc8"
      }
     },
     "metadata": {},
     "output_type": "display_data"
    },
    {
     "name": "stdout",
     "output_type": "stream",
     "text": [
      "Epoch : 18 - loss : 0.3555 - acc: 0.8524 - val_loss : 1.7594 - val_acc: 0.5261\n"
     ]
    },
    {
     "data": {
      "text/plain": "  0%|          | 0/1251 [00:00<?, ?it/s]",
      "application/vnd.jupyter.widget-view+json": {
       "version_major": 2,
       "version_minor": 0,
       "model_id": "da3aec7ed000466991c67abfcfe18536"
      }
     },
     "metadata": {},
     "output_type": "display_data"
    },
    {
     "name": "stdout",
     "output_type": "stream",
     "text": [
      "Epoch : 19 - loss : 0.3289 - acc: 0.8626 - val_loss : 1.7613 - val_acc: 0.5295\n"
     ]
    },
    {
     "data": {
      "text/plain": "  0%|          | 0/1251 [00:00<?, ?it/s]",
      "application/vnd.jupyter.widget-view+json": {
       "version_major": 2,
       "version_minor": 0,
       "model_id": "a9d87588261949208520ce6f41a02038"
      }
     },
     "metadata": {},
     "output_type": "display_data"
    },
    {
     "name": "stdout",
     "output_type": "stream",
     "text": [
      "Epoch : 20 - loss : 0.3100 - acc: 0.8701 - val_loss : 1.8162 - val_acc: 0.5345\n"
     ]
    },
    {
     "data": {
      "text/plain": "  0%|          | 0/1251 [00:00<?, ?it/s]",
      "application/vnd.jupyter.widget-view+json": {
       "version_major": 2,
       "version_minor": 0,
       "model_id": "1901d5c1acf749ff89a43aaa67c16489"
      }
     },
     "metadata": {},
     "output_type": "display_data"
    },
    {
     "name": "stdout",
     "output_type": "stream",
     "text": [
      "Epoch : 21 - loss : 0.2982 - acc: 0.8747 - val_loss : 1.8420 - val_acc: 0.5299\n"
     ]
    },
    {
     "data": {
      "text/plain": "  0%|          | 0/1251 [00:00<?, ?it/s]",
      "application/vnd.jupyter.widget-view+json": {
       "version_major": 2,
       "version_minor": 0,
       "model_id": "07f4f0fa59a740bab667e1c613ea915b"
      }
     },
     "metadata": {},
     "output_type": "display_data"
    },
    {
     "name": "stdout",
     "output_type": "stream",
     "text": [
      "Epoch : 22 - loss : 0.2782 - acc: 0.8827 - val_loss : 1.8769 - val_acc: 0.5352\n"
     ]
    },
    {
     "data": {
      "text/plain": "  0%|          | 0/1251 [00:00<?, ?it/s]",
      "application/vnd.jupyter.widget-view+json": {
       "version_major": 2,
       "version_minor": 0,
       "model_id": "eada358a255a49f4888219fea9430db7"
      }
     },
     "metadata": {},
     "output_type": "display_data"
    },
    {
     "name": "stdout",
     "output_type": "stream",
     "text": [
      "Epoch : 23 - loss : 0.2712 - acc: 0.8835 - val_loss : 1.9108 - val_acc: 0.5349\n"
     ]
    },
    {
     "data": {
      "text/plain": "  0%|          | 0/1251 [00:00<?, ?it/s]",
      "application/vnd.jupyter.widget-view+json": {
       "version_major": 2,
       "version_minor": 0,
       "model_id": "5356453b81ab402aad5f9a07371c69dc"
      }
     },
     "metadata": {},
     "output_type": "display_data"
    },
    {
     "name": "stdout",
     "output_type": "stream",
     "text": [
      "Epoch : 24 - loss : 0.2562 - acc: 0.8898 - val_loss : 1.9126 - val_acc: 0.5418\n"
     ]
    },
    {
     "data": {
      "text/plain": "  0%|          | 0/1251 [00:00<?, ?it/s]",
      "application/vnd.jupyter.widget-view+json": {
       "version_major": 2,
       "version_minor": 0,
       "model_id": "9eff05064fde477195f2e09dfe92c297"
      }
     },
     "metadata": {},
     "output_type": "display_data"
    },
    {
     "name": "stdout",
     "output_type": "stream",
     "text": [
      "Epoch : 25 - loss : 0.2545 - acc: 0.8893 - val_loss : 1.9289 - val_acc: 0.5398\n"
     ]
    },
    {
     "data": {
      "text/plain": "  0%|          | 0/1251 [00:00<?, ?it/s]",
      "application/vnd.jupyter.widget-view+json": {
       "version_major": 2,
       "version_minor": 0,
       "model_id": "31e9f54ec694440b8383b9253547b705"
      }
     },
     "metadata": {},
     "output_type": "display_data"
    },
    {
     "name": "stdout",
     "output_type": "stream",
     "text": [
      "Epoch : 26 - loss : 0.2416 - acc: 0.8951 - val_loss : 1.8728 - val_acc: 0.5420\n"
     ]
    },
    {
     "data": {
      "text/plain": "  0%|          | 0/1251 [00:00<?, ?it/s]",
      "application/vnd.jupyter.widget-view+json": {
       "version_major": 2,
       "version_minor": 0,
       "model_id": "6ce4beab9bf049b1967019b265c8df20"
      }
     },
     "metadata": {},
     "output_type": "display_data"
    },
    {
     "name": "stdout",
     "output_type": "stream",
     "text": [
      "Epoch : 27 - loss : 0.2367 - acc: 0.8962 - val_loss : 1.9094 - val_acc: 0.5361\n"
     ]
    },
    {
     "data": {
      "text/plain": "  0%|          | 0/1251 [00:00<?, ?it/s]",
      "application/vnd.jupyter.widget-view+json": {
       "version_major": 2,
       "version_minor": 0,
       "model_id": "8920e84c86da4e4a8355407bb4703b7b"
      }
     },
     "metadata": {},
     "output_type": "display_data"
    },
    {
     "name": "stdout",
     "output_type": "stream",
     "text": [
      "Epoch : 28 - loss : 0.2300 - acc: 0.8985 - val_loss : 2.0217 - val_acc: 0.5329\n"
     ]
    },
    {
     "data": {
      "text/plain": "  0%|          | 0/1251 [00:00<?, ?it/s]",
      "application/vnd.jupyter.widget-view+json": {
       "version_major": 2,
       "version_minor": 0,
       "model_id": "dbba552acf6748db856ce01b7c9e13f0"
      }
     },
     "metadata": {},
     "output_type": "display_data"
    },
    {
     "name": "stdout",
     "output_type": "stream",
     "text": [
      "Epoch : 29 - loss : 0.2296 - acc: 0.8990 - val_loss : 1.9382 - val_acc: 0.5384\n"
     ]
    },
    {
     "data": {
      "text/plain": "  0%|          | 0/1251 [00:00<?, ?it/s]",
      "application/vnd.jupyter.widget-view+json": {
       "version_major": 2,
       "version_minor": 0,
       "model_id": "6b47a4c9f77f4496bf369d3759488b97"
      }
     },
     "metadata": {},
     "output_type": "display_data"
    },
    {
     "name": "stdout",
     "output_type": "stream",
     "text": [
      "Epoch : 30 - loss : 0.2194 - acc: 0.9024 - val_loss : 1.9730 - val_acc: 0.5393\n"
     ]
    }
   ],
   "source": [
    "for epoch in range(epochs):\n",
    "    epoch_loss = 0\n",
    "    epoch_accuracy = 0\n",
    "\n",
    "    for data, label in tqdm(train_loader):\n",
    "        data = data.to(device)\n",
    "        label = label.to(device)\n",
    "\n",
    "        output = model(data)\n",
    "        loss = criterion(output, label)\n",
    "\n",
    "        optimizer.zero_grad()\n",
    "        loss.backward()\n",
    "        optimizer.step()\n",
    "        acc = (output.argmax(dim=1) == label).float().mean()\n",
    "        epoch_accuracy += acc / len(train_loader)\n",
    "        epoch_loss += loss / len(train_loader)\n",
    "\n",
    "    with torch.no_grad():\n",
    "        epoch_val_accuracy = 0\n",
    "        epoch_val_loss = 0\n",
    "        for data, label in valid_loader:\n",
    "            data = data.to(device)\n",
    "            label = label.to(device)\n",
    "\n",
    "            val_output = model(data)\n",
    "            val_loss = criterion(val_output, label)\n",
    "\n",
    "            acc = (val_output.argmax(dim=1) == label).float().mean()\n",
    "            epoch_val_accuracy += acc / len(valid_loader)\n",
    "            epoch_val_loss += val_loss / len(valid_loader)\n",
    "\n",
    "    print(\n",
    "        f\"Epoch : {epoch+1} - loss : {epoch_loss:.4f} - acc: {epoch_accuracy:.4f} - val_loss : {epoch_val_loss:.4f} - val_acc: {epoch_val_accuracy:.4f}\\n\"\n",
    "    )"
   ],
   "metadata": {
    "collapsed": false,
    "ExecuteTime": {
     "end_time": "2024-06-22T07:38:32.353511Z",
     "start_time": "2024-06-22T07:21:33.016176Z"
    }
   },
   "id": "babf440a3f11d1ad",
   "execution_count": 167
  },
  {
   "cell_type": "code",
   "outputs": [
    {
     "name": "stdout",
     "output_type": "stream",
     "text": [
      "model saved\n"
     ]
    }
   ],
   "source": [
    "torch.save(model, \"model2.pt\")\n",
    "print(\"model saved\")"
   ],
   "metadata": {
    "collapsed": false,
    "ExecuteTime": {
     "end_time": "2024-06-22T07:38:32.400083Z",
     "start_time": "2024-06-22T07:38:32.354513Z"
    }
   },
   "id": "4d64f114088f8638",
   "execution_count": 168
  },
  {
   "cell_type": "code",
   "outputs": [
    {
     "name": "stdout",
     "output_type": "stream",
     "text": [
      "Headers(Event='Wch U10', Site='Cannes', Date='1997.??.??', Round='2', White='Nakamura, Hikaru', Black='El Mikati, Mohamad', Result='1-0', WhiteElo='', BlackElo='', ECO='C11')\n",
      "tensor([[-5.5200, -2.2672, -5.5602, -2.9908,  6.6583, -4.0547, -0.7927,  0.6678,\n",
      "          6.3818,  5.6270]], device='cuda:0')\n"
     ]
    }
   ],
   "source": [
    "import chess.pgn\n",
    "from create_dataset import chess_board_to_image\n",
    "import io\n",
    "\n",
    "\n",
    "\n",
    "model = torch.load(\"model2.pt\")\n",
    "\n",
    "pgn = open(\"Nakamura.pgn\")\n",
    "\n",
    "game = chess.pgn.read_game(pgn)\n",
    "header = chess.pgn.read_headers(pgn)\n",
    "print(header)\n",
    "#while not game.is_end():\n",
    "game = game.end()\n",
    "#game = game.next()\n",
    "tensor = chess_board_to_image(str(game.board()))\n",
    "tensor.unsqueeze_(0)\n",
    "with torch.no_grad():\n",
    "    predictions = model(tensor.to(device))\n",
    "    print(predictions)\n",
    "    probabilities = F.softmax(predictions, dim=1) \n",
    "    np_arr = predictions.detach().cpu().numpy()\n",
    "    \n",
    "        "
   ],
   "metadata": {
    "collapsed": false,
    "ExecuteTime": {
     "end_time": "2024-06-22T07:38:32.477941Z",
     "start_time": "2024-06-22T07:38:32.401997Z"
    }
   },
   "id": "2e2d913cb304ba22",
   "execution_count": 169
  },
  {
   "cell_type": "code",
   "outputs": [],
   "source": [],
   "metadata": {
    "collapsed": false,
    "ExecuteTime": {
     "end_time": "2024-06-22T07:38:32.493196Z",
     "start_time": "2024-06-22T07:38:32.479932Z"
    }
   },
   "id": "421bb25db73ef6c7",
   "execution_count": 169
  }
 ],
 "metadata": {
  "kernelspec": {
   "display_name": "Python 3",
   "language": "python",
   "name": "python3"
  },
  "language_info": {
   "codemirror_mode": {
    "name": "ipython",
    "version": 2
   },
   "file_extension": ".py",
   "mimetype": "text/x-python",
   "name": "python",
   "nbconvert_exporter": "python",
   "pygments_lexer": "ipython2",
   "version": "2.7.6"
  }
 },
 "nbformat": 4,
 "nbformat_minor": 5
}
