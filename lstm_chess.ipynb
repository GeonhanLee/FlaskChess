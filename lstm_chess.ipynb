{
 "cells": [
  {
   "cell_type": "code",
   "execution_count": 45,
   "id": "2e84e255",
   "metadata": {
    "ExecuteTime": {
     "end_time": "2024-06-23T03:54:45.781048Z",
     "start_time": "2024-06-23T03:54:45.767025Z"
    }
   },
   "outputs": [],
   "source": [
    "import numpy as np\n",
    "import matplotlib.pyplot as plt\n",
    "\n",
    "import torch\n",
    "import torch.nn as nn\n",
    "import torch.nn.functional as F\n",
    "\n",
    "from torch import optim\n",
    "from torch.utils.data import DataLoader\n",
    "from torch.utils.data.dataset import Dataset\n",
    "\n",
    "from tqdm.notebook import trange, tqdm"
   ]
  },
  {
   "cell_type": "code",
   "execution_count": 46,
   "id": "44d70b17",
   "metadata": {
    "ExecuteTime": {
     "end_time": "2024-06-23T03:54:45.796063Z",
     "start_time": "2024-06-23T03:54:45.782055Z"
    }
   },
   "outputs": [],
   "source": [
    "# Define the hyperparameters\n",
    "learning_rate = 3e-4  # Learning rate for the optimizer\n",
    "nepochs = 120  # Number of training epochs\n",
    "batch_size = 64  # Batch size for training\n",
    "\n",
    "output_size = 2\n",
    "\n",
    "max_len = 64  # Maximum length of input sequences\n",
    "chess_piece_type_count = 13 # six for each player and one for blank"
   ]
  },
  {
   "cell_type": "code",
   "outputs": [
    {
     "name": "stdout",
     "output_type": "stream",
     "text": [
      "board length:  658385\n",
      "label length:  658385\n"
     ]
    }
   ],
   "source": [
    "board_data = torch.load(\"boards3-1.pt\")\n",
    "label_data = torch.load(\"labels3-1.pt\")\n",
    "\n",
    "print(\"board length: \", len(board_data))\n",
    "print(\"label length: \", len(label_data))"
   ],
   "metadata": {
    "collapsed": false,
    "ExecuteTime": {
     "end_time": "2024-06-23T03:55:00.816322Z",
     "start_time": "2024-06-23T03:54:45.797066Z"
    }
   },
   "id": "4ef4405d4cfaf69d",
   "execution_count": 47
  },
  {
   "cell_type": "code",
   "outputs": [],
   "source": [
    "class CustomChessDataset(Dataset):\n",
    "    def __init__(self):\n",
    "        pass\n",
    "\n",
    "    def __len__(self):\n",
    "        return len(board_data)\n",
    "\n",
    "    def __getitem__(self, idx):\n",
    "        label = label_data[idx]\n",
    "        text = board_data[idx]\n",
    "        return torch.tensor([label, 1.0 - label], dtype=torch.float), text"
   ],
   "metadata": {
    "collapsed": false,
    "ExecuteTime": {
     "end_time": "2024-06-23T03:55:00.831625Z",
     "start_time": "2024-06-23T03:55:00.818417Z"
    }
   },
   "id": "b27aeeda347fd20c",
   "execution_count": 48
  },
  {
   "cell_type": "code",
   "execution_count": 49,
   "id": "bfaf3abc",
   "metadata": {
    "ExecuteTime": {
     "end_time": "2024-06-23T03:55:00.878780Z",
     "start_time": "2024-06-23T03:55:00.832643Z"
    }
   },
   "outputs": [
    {
     "name": "stdout",
     "output_type": "stream",
     "text": [
      "Train size:  526708\n",
      "Test size:  131677\n"
     ]
    }
   ],
   "source": [
    "import torch.utils.data as data\n",
    "\n",
    "full_dataset = CustomChessDataset()\n",
    "\n",
    "train_size = int(0.8 * len(full_dataset))\n",
    "test_size = len(full_dataset) - train_size\n",
    "\n",
    "print(\"Train size: \", train_size)\n",
    "print(\"Test size: \", test_size)\n",
    "\n",
    "train_dataset, test_dataset = torch.utils.data.random_split(full_dataset, [train_size, test_size])\n",
    "\n",
    "# Data Loaders:\n",
    "train_loader = data.DataLoader(train_dataset, batch_size=batch_size, shuffle=True)\n",
    "valid_loader = data.DataLoader(test_dataset, batch_size=batch_size, shuffle=True)"
   ]
  },
  {
   "cell_type": "markdown",
   "id": "d438f735",
   "metadata": {},
   "source": [
    "## Create LSTM Model"
   ]
  },
  {
   "cell_type": "code",
   "execution_count": 50,
   "id": "350ac2de",
   "metadata": {
    "ExecuteTime": {
     "end_time": "2024-06-23T03:55:00.887447Z",
     "start_time": "2024-06-23T03:55:00.879892Z"
    }
   },
   "outputs": [],
   "source": [
    "from chess_model import LSTM"
   ]
  },
  {
   "cell_type": "markdown",
   "id": "a482f1d7",
   "metadata": {},
   "source": [
    "## Initialise Model and Optimizer"
   ]
  },
  {
   "cell_type": "code",
   "execution_count": 51,
   "id": "6341169c",
   "metadata": {
    "ExecuteTime": {
     "end_time": "2024-06-23T03:55:00.918458Z",
     "start_time": "2024-06-23T03:55:00.891409Z"
    }
   },
   "outputs": [],
   "source": [
    "device = 'cuda'\n",
    "\n",
    "# Define the size of the hidden layer and number of LSTM layers\n",
    "hidden_size = 64\n",
    "num_layers = 3\n",
    "\n",
    "# Create the LSTM classifier model\n",
    "lstm_classifier = LSTM(num_emb=chess_piece_type_count, output_size=2, num_layers=num_layers, hidden_size=hidden_size).to(device)\n",
    "\n",
    "#lstm_classifier = ChessLSTM(chess_piece_type_count, hidden_size, num_layers, output_size, num_emb=chess_piece_type_count).to(device)\n",
    "\n",
    "# Initialize the optimizer with Adam optimizer\n",
    "optimizer = optim.Adam(lstm_classifier.parameters(), lr=learning_rate)\n",
    "\n",
    "# Define the loss function as CrossEntropyLoss for classification\n",
    "loss_fn = nn.BCEWithLogitsLoss()\n",
    "\n",
    "# Initialize lists to store training and test loss, as well as accuracy\n",
    "training_loss_logger = []\n",
    "test_loss_logger = []\n",
    "training_acc_logger = []\n",
    "test_acc_logger = []"
   ]
  },
  {
   "cell_type": "code",
   "execution_count": 52,
   "id": "2bdb0ec4",
   "metadata": {
    "ExecuteTime": {
     "end_time": "2024-06-23T03:55:00.934655Z",
     "start_time": "2024-06-23T03:55:00.920500Z"
    }
   },
   "outputs": [
    {
     "name": "stdout",
     "output_type": "stream",
     "text": [
      "-This Model Has 100802 (Approximately 0 Million) Parameters!\n"
     ]
    }
   ],
   "source": [
    "# Let's see how many Parameters our Model has!\n",
    "num_model_params = 0\n",
    "for param in lstm_classifier.parameters():\n",
    "    num_model_params += param.flatten().shape[0]\n",
    "\n",
    "print(\"-This Model Has %d (Approximately %d Million) Parameters!\" % (num_model_params, num_model_params//1e6))"
   ]
  },
  {
   "cell_type": "markdown",
   "id": "9f0ba82f",
   "metadata": {},
   "source": [
    "## Training"
   ]
  },
  {
   "cell_type": "code",
   "execution_count": 53,
   "id": "8dd56a78",
   "metadata": {
    "ExecuteTime": {
     "end_time": "2024-06-23T04:48:57.412147Z",
     "start_time": "2024-06-23T03:55:00.935788Z"
    }
   },
   "outputs": [
    {
     "data": {
      "text/plain": "  0%|          | 0/8230 [00:00<?, ?it/s]",
      "application/vnd.jupyter.widget-view+json": {
       "version_major": 2,
       "version_minor": 0,
       "model_id": "940afee176044bd298b9a5d876f8f84d"
      }
     },
     "metadata": {},
     "output_type": "display_data"
    },
    {
     "data": {
      "text/plain": "  0%|          | 0/2058 [00:00<?, ?it/s]",
      "application/vnd.jupyter.widget-view+json": {
       "version_major": 2,
       "version_minor": 0,
       "model_id": "6a4eefc8ce2d48d6b371f9b91c8802f5"
      }
     },
     "metadata": {},
     "output_type": "display_data"
    },
    {
     "name": "stdout",
     "output_type": "stream",
     "text": [
      "Epoch : 1 - loss : 0.6553 - acc: 0.6120 - val_loss : 0.6462 - val_acc: 0.6315\n"
     ]
    },
    {
     "data": {
      "text/plain": "  0%|          | 0/8230 [00:00<?, ?it/s]",
      "application/vnd.jupyter.widget-view+json": {
       "version_major": 2,
       "version_minor": 0,
       "model_id": "f13292496c4d4d7bba03d8f52b87578f"
      }
     },
     "metadata": {},
     "output_type": "display_data"
    },
    {
     "data": {
      "text/plain": "  0%|          | 0/2058 [00:00<?, ?it/s]",
      "application/vnd.jupyter.widget-view+json": {
       "version_major": 2,
       "version_minor": 0,
       "model_id": "e95116e438dd42c9aa7ce53e37606ba9"
      }
     },
     "metadata": {},
     "output_type": "display_data"
    },
    {
     "name": "stdout",
     "output_type": "stream",
     "text": [
      "Epoch : 2 - loss : 0.6457 - acc: 0.6338 - val_loss : 0.6463 - val_acc: 0.6188\n"
     ]
    },
    {
     "data": {
      "text/plain": "  0%|          | 0/8230 [00:00<?, ?it/s]",
      "application/vnd.jupyter.widget-view+json": {
       "version_major": 2,
       "version_minor": 0,
       "model_id": "73d8c34df47241d0bcd3b22d4ddc11e8"
      }
     },
     "metadata": {},
     "output_type": "display_data"
    },
    {
     "data": {
      "text/plain": "  0%|          | 0/2058 [00:00<?, ?it/s]",
      "application/vnd.jupyter.widget-view+json": {
       "version_major": 2,
       "version_minor": 0,
       "model_id": "a5c6f6e4a28e4aab99c1618631cccd1a"
      }
     },
     "metadata": {},
     "output_type": "display_data"
    },
    {
     "name": "stdout",
     "output_type": "stream",
     "text": [
      "Epoch : 3 - loss : 0.6443 - acc: 0.6367 - val_loss : 0.6436 - val_acc: 0.6395\n"
     ]
    },
    {
     "data": {
      "text/plain": "  0%|          | 0/8230 [00:00<?, ?it/s]",
      "application/vnd.jupyter.widget-view+json": {
       "version_major": 2,
       "version_minor": 0,
       "model_id": "a9b74e7458ac40c4b7e17b30eeda0ab2"
      }
     },
     "metadata": {},
     "output_type": "display_data"
    },
    {
     "data": {
      "text/plain": "  0%|          | 0/2058 [00:00<?, ?it/s]",
      "application/vnd.jupyter.widget-view+json": {
       "version_major": 2,
       "version_minor": 0,
       "model_id": "dcb6c379074d4212ae001f6cce968812"
      }
     },
     "metadata": {},
     "output_type": "display_data"
    },
    {
     "name": "stdout",
     "output_type": "stream",
     "text": [
      "Epoch : 4 - loss : 0.6433 - acc: 0.6390 - val_loss : 0.6426 - val_acc: 0.6424\n"
     ]
    },
    {
     "data": {
      "text/plain": "  0%|          | 0/8230 [00:00<?, ?it/s]",
      "application/vnd.jupyter.widget-view+json": {
       "version_major": 2,
       "version_minor": 0,
       "model_id": "0458aea9602f4689b2e305b948692af3"
      }
     },
     "metadata": {},
     "output_type": "display_data"
    },
    {
     "data": {
      "text/plain": "  0%|          | 0/2058 [00:00<?, ?it/s]",
      "application/vnd.jupyter.widget-view+json": {
       "version_major": 2,
       "version_minor": 0,
       "model_id": "55f9002dc67c459b82c3357579a494fc"
      }
     },
     "metadata": {},
     "output_type": "display_data"
    },
    {
     "name": "stdout",
     "output_type": "stream",
     "text": [
      "Epoch : 5 - loss : 0.6426 - acc: 0.6410 - val_loss : 0.6423 - val_acc: 0.6424\n"
     ]
    },
    {
     "data": {
      "text/plain": "  0%|          | 0/8230 [00:00<?, ?it/s]",
      "application/vnd.jupyter.widget-view+json": {
       "version_major": 2,
       "version_minor": 0,
       "model_id": "4a37b85ede8e419dbf52effe4f076ba4"
      }
     },
     "metadata": {},
     "output_type": "display_data"
    },
    {
     "data": {
      "text/plain": "  0%|          | 0/2058 [00:00<?, ?it/s]",
      "application/vnd.jupyter.widget-view+json": {
       "version_major": 2,
       "version_minor": 0,
       "model_id": "f05122cc38634568b9567679a0a9980e"
      }
     },
     "metadata": {},
     "output_type": "display_data"
    },
    {
     "name": "stdout",
     "output_type": "stream",
     "text": [
      "Epoch : 6 - loss : 0.6419 - acc: 0.6430 - val_loss : 0.6414 - val_acc: 0.6467\n"
     ]
    },
    {
     "data": {
      "text/plain": "  0%|          | 0/8230 [00:00<?, ?it/s]",
      "application/vnd.jupyter.widget-view+json": {
       "version_major": 2,
       "version_minor": 0,
       "model_id": "1031f834b14043dbb09a12a39c290415"
      }
     },
     "metadata": {},
     "output_type": "display_data"
    },
    {
     "data": {
      "text/plain": "  0%|          | 0/2058 [00:00<?, ?it/s]",
      "application/vnd.jupyter.widget-view+json": {
       "version_major": 2,
       "version_minor": 0,
       "model_id": "4927ed7a59264ee092d0fed0e382268f"
      }
     },
     "metadata": {},
     "output_type": "display_data"
    },
    {
     "name": "stdout",
     "output_type": "stream",
     "text": [
      "Epoch : 7 - loss : 0.6413 - acc: 0.6456 - val_loss : 0.6412 - val_acc: 0.6443\n"
     ]
    },
    {
     "data": {
      "text/plain": "  0%|          | 0/8230 [00:00<?, ?it/s]",
      "application/vnd.jupyter.widget-view+json": {
       "version_major": 2,
       "version_minor": 0,
       "model_id": "43b97c2d92a343b8a3cd131f6d4c3e1b"
      }
     },
     "metadata": {},
     "output_type": "display_data"
    },
    {
     "data": {
      "text/plain": "  0%|          | 0/2058 [00:00<?, ?it/s]",
      "application/vnd.jupyter.widget-view+json": {
       "version_major": 2,
       "version_minor": 0,
       "model_id": "9b8dc6625fd8402e9857c0f99cbd9edf"
      }
     },
     "metadata": {},
     "output_type": "display_data"
    },
    {
     "name": "stdout",
     "output_type": "stream",
     "text": [
      "Epoch : 8 - loss : 0.6406 - acc: 0.6459 - val_loss : 0.6410 - val_acc: 0.6466\n"
     ]
    },
    {
     "data": {
      "text/plain": "  0%|          | 0/8230 [00:00<?, ?it/s]",
      "application/vnd.jupyter.widget-view+json": {
       "version_major": 2,
       "version_minor": 0,
       "model_id": "26e3adc2968d4cc793302dc79b4bc156"
      }
     },
     "metadata": {},
     "output_type": "display_data"
    },
    {
     "data": {
      "text/plain": "  0%|          | 0/2058 [00:00<?, ?it/s]",
      "application/vnd.jupyter.widget-view+json": {
       "version_major": 2,
       "version_minor": 0,
       "model_id": "55693186fa33483cbed0361940fd2f71"
      }
     },
     "metadata": {},
     "output_type": "display_data"
    },
    {
     "name": "stdout",
     "output_type": "stream",
     "text": [
      "Epoch : 9 - loss : 0.6401 - acc: 0.6472 - val_loss : 0.6405 - val_acc: 0.6499\n"
     ]
    },
    {
     "data": {
      "text/plain": "  0%|          | 0/8230 [00:00<?, ?it/s]",
      "application/vnd.jupyter.widget-view+json": {
       "version_major": 2,
       "version_minor": 0,
       "model_id": "e363510e487b4fe6ab085d80dfea2f83"
      }
     },
     "metadata": {},
     "output_type": "display_data"
    },
    {
     "data": {
      "text/plain": "  0%|          | 0/2058 [00:00<?, ?it/s]",
      "application/vnd.jupyter.widget-view+json": {
       "version_major": 2,
       "version_minor": 0,
       "model_id": "43ecb4669195421ca56e66aade7d27fa"
      }
     },
     "metadata": {},
     "output_type": "display_data"
    },
    {
     "name": "stdout",
     "output_type": "stream",
     "text": [
      "Epoch : 10 - loss : 0.6394 - acc: 0.6496 - val_loss : 0.6405 - val_acc: 0.6495\n"
     ]
    },
    {
     "data": {
      "text/plain": "  0%|          | 0/8230 [00:00<?, ?it/s]",
      "application/vnd.jupyter.widget-view+json": {
       "version_major": 2,
       "version_minor": 0,
       "model_id": "7953d0447351450d98715ab9da41258d"
      }
     },
     "metadata": {},
     "output_type": "display_data"
    },
    {
     "data": {
      "text/plain": "  0%|          | 0/2058 [00:00<?, ?it/s]",
      "application/vnd.jupyter.widget-view+json": {
       "version_major": 2,
       "version_minor": 0,
       "model_id": "3af6856acbba42db8e68ef91659e9c2e"
      }
     },
     "metadata": {},
     "output_type": "display_data"
    },
    {
     "name": "stdout",
     "output_type": "stream",
     "text": [
      "Epoch : 11 - loss : 0.6388 - acc: 0.6504 - val_loss : 0.6406 - val_acc: 0.6450\n"
     ]
    },
    {
     "data": {
      "text/plain": "  0%|          | 0/8230 [00:00<?, ?it/s]",
      "application/vnd.jupyter.widget-view+json": {
       "version_major": 2,
       "version_minor": 0,
       "model_id": "006842e46b814201a18e57223a969da2"
      }
     },
     "metadata": {},
     "output_type": "display_data"
    },
    {
     "data": {
      "text/plain": "  0%|          | 0/2058 [00:00<?, ?it/s]",
      "application/vnd.jupyter.widget-view+json": {
       "version_major": 2,
       "version_minor": 0,
       "model_id": "c0a98288c38441788edb7039563f9d5b"
      }
     },
     "metadata": {},
     "output_type": "display_data"
    },
    {
     "name": "stdout",
     "output_type": "stream",
     "text": [
      "Epoch : 12 - loss : 0.6382 - acc: 0.6511 - val_loss : 0.6397 - val_acc: 0.6516\n"
     ]
    },
    {
     "data": {
      "text/plain": "  0%|          | 0/8230 [00:00<?, ?it/s]",
      "application/vnd.jupyter.widget-view+json": {
       "version_major": 2,
       "version_minor": 0,
       "model_id": "904aa60cc95e48b3b1b2864cbbf900ca"
      }
     },
     "metadata": {},
     "output_type": "display_data"
    },
    {
     "data": {
      "text/plain": "  0%|          | 0/2058 [00:00<?, ?it/s]",
      "application/vnd.jupyter.widget-view+json": {
       "version_major": 2,
       "version_minor": 0,
       "model_id": "417cd53dca3544968ff260239b0e2383"
      }
     },
     "metadata": {},
     "output_type": "display_data"
    },
    {
     "name": "stdout",
     "output_type": "stream",
     "text": [
      "Epoch : 13 - loss : 0.6377 - acc: 0.6530 - val_loss : 0.6399 - val_acc: 0.6499\n"
     ]
    },
    {
     "data": {
      "text/plain": "  0%|          | 0/8230 [00:00<?, ?it/s]",
      "application/vnd.jupyter.widget-view+json": {
       "version_major": 2,
       "version_minor": 0,
       "model_id": "7fc1f4a423284018b14ecd755bfd436c"
      }
     },
     "metadata": {},
     "output_type": "display_data"
    },
    {
     "data": {
      "text/plain": "  0%|          | 0/2058 [00:00<?, ?it/s]",
      "application/vnd.jupyter.widget-view+json": {
       "version_major": 2,
       "version_minor": 0,
       "model_id": "7532616eeb0a4bc2a94ab12d1fcb623d"
      }
     },
     "metadata": {},
     "output_type": "display_data"
    },
    {
     "name": "stdout",
     "output_type": "stream",
     "text": [
      "Epoch : 14 - loss : 0.6369 - acc: 0.6544 - val_loss : 0.6385 - val_acc: 0.6542\n"
     ]
    },
    {
     "data": {
      "text/plain": "  0%|          | 0/8230 [00:00<?, ?it/s]",
      "application/vnd.jupyter.widget-view+json": {
       "version_major": 2,
       "version_minor": 0,
       "model_id": "ad833f265ebb4019a5433cc78e047e27"
      }
     },
     "metadata": {},
     "output_type": "display_data"
    },
    {
     "data": {
      "text/plain": "  0%|          | 0/2058 [00:00<?, ?it/s]",
      "application/vnd.jupyter.widget-view+json": {
       "version_major": 2,
       "version_minor": 0,
       "model_id": "22af8f9da3914a35a7296bb55533b11a"
      }
     },
     "metadata": {},
     "output_type": "display_data"
    },
    {
     "name": "stdout",
     "output_type": "stream",
     "text": [
      "Epoch : 15 - loss : 0.6364 - acc: 0.6554 - val_loss : 0.6380 - val_acc: 0.6547\n"
     ]
    },
    {
     "data": {
      "text/plain": "  0%|          | 0/8230 [00:00<?, ?it/s]",
      "application/vnd.jupyter.widget-view+json": {
       "version_major": 2,
       "version_minor": 0,
       "model_id": "1ec4909f95d84e3fa791519ac369a2ca"
      }
     },
     "metadata": {},
     "output_type": "display_data"
    },
    {
     "data": {
      "text/plain": "  0%|          | 0/2058 [00:00<?, ?it/s]",
      "application/vnd.jupyter.widget-view+json": {
       "version_major": 2,
       "version_minor": 0,
       "model_id": "7961467b68d64150b46f648c857d45b6"
      }
     },
     "metadata": {},
     "output_type": "display_data"
    },
    {
     "name": "stdout",
     "output_type": "stream",
     "text": [
      "Epoch : 16 - loss : 0.6357 - acc: 0.6566 - val_loss : 0.6390 - val_acc: 0.6539\n"
     ]
    },
    {
     "data": {
      "text/plain": "  0%|          | 0/8230 [00:00<?, ?it/s]",
      "application/vnd.jupyter.widget-view+json": {
       "version_major": 2,
       "version_minor": 0,
       "model_id": "6476824b261f4386b98b7505c6639495"
      }
     },
     "metadata": {},
     "output_type": "display_data"
    },
    {
     "data": {
      "text/plain": "  0%|          | 0/2058 [00:00<?, ?it/s]",
      "application/vnd.jupyter.widget-view+json": {
       "version_major": 2,
       "version_minor": 0,
       "model_id": "f506de5b7cab4f97a4e66be6d8b9e82c"
      }
     },
     "metadata": {},
     "output_type": "display_data"
    },
    {
     "name": "stdout",
     "output_type": "stream",
     "text": [
      "Epoch : 17 - loss : 0.6352 - acc: 0.6577 - val_loss : 0.6380 - val_acc: 0.6512\n"
     ]
    },
    {
     "data": {
      "text/plain": "  0%|          | 0/8230 [00:00<?, ?it/s]",
      "application/vnd.jupyter.widget-view+json": {
       "version_major": 2,
       "version_minor": 0,
       "model_id": "bcbca54b4c2c439e871a04ade0ff4174"
      }
     },
     "metadata": {},
     "output_type": "display_data"
    },
    {
     "data": {
      "text/plain": "  0%|          | 0/2058 [00:00<?, ?it/s]",
      "application/vnd.jupyter.widget-view+json": {
       "version_major": 2,
       "version_minor": 0,
       "model_id": "a0ddff3ee0cf471dbdc958a7359dbbed"
      }
     },
     "metadata": {},
     "output_type": "display_data"
    },
    {
     "name": "stdout",
     "output_type": "stream",
     "text": [
      "Epoch : 18 - loss : 0.6346 - acc: 0.6589 - val_loss : 0.6377 - val_acc: 0.6488\n"
     ]
    },
    {
     "data": {
      "text/plain": "  0%|          | 0/8230 [00:00<?, ?it/s]",
      "application/vnd.jupyter.widget-view+json": {
       "version_major": 2,
       "version_minor": 0,
       "model_id": "1b3db1c9eeb74398873edfee5e6121f0"
      }
     },
     "metadata": {},
     "output_type": "display_data"
    },
    {
     "data": {
      "text/plain": "  0%|          | 0/2058 [00:00<?, ?it/s]",
      "application/vnd.jupyter.widget-view+json": {
       "version_major": 2,
       "version_minor": 0,
       "model_id": "8f331703112b43e896b1630bd3e6dbe3"
      }
     },
     "metadata": {},
     "output_type": "display_data"
    },
    {
     "name": "stdout",
     "output_type": "stream",
     "text": [
      "Epoch : 19 - loss : 0.6340 - acc: 0.6593 - val_loss : 0.6371 - val_acc: 0.6567\n"
     ]
    },
    {
     "data": {
      "text/plain": "  0%|          | 0/8230 [00:00<?, ?it/s]",
      "application/vnd.jupyter.widget-view+json": {
       "version_major": 2,
       "version_minor": 0,
       "model_id": "8911e787b9e74c5d92661262490b555b"
      }
     },
     "metadata": {},
     "output_type": "display_data"
    },
    {
     "data": {
      "text/plain": "  0%|          | 0/2058 [00:00<?, ?it/s]",
      "application/vnd.jupyter.widget-view+json": {
       "version_major": 2,
       "version_minor": 0,
       "model_id": "9450e2c7f8b641dcaca363a94dbaca74"
      }
     },
     "metadata": {},
     "output_type": "display_data"
    },
    {
     "name": "stdout",
     "output_type": "stream",
     "text": [
      "Epoch : 20 - loss : 0.6334 - acc: 0.6612 - val_loss : 0.6374 - val_acc: 0.6555\n"
     ]
    },
    {
     "data": {
      "text/plain": "  0%|          | 0/8230 [00:00<?, ?it/s]",
      "application/vnd.jupyter.widget-view+json": {
       "version_major": 2,
       "version_minor": 0,
       "model_id": "f8332ab264ac4156a2e2f330e213aab8"
      }
     },
     "metadata": {},
     "output_type": "display_data"
    },
    {
     "data": {
      "text/plain": "  0%|          | 0/2058 [00:00<?, ?it/s]",
      "application/vnd.jupyter.widget-view+json": {
       "version_major": 2,
       "version_minor": 0,
       "model_id": "e9e6e3f5a33f4192907d9314d0e6bc9c"
      }
     },
     "metadata": {},
     "output_type": "display_data"
    },
    {
     "name": "stdout",
     "output_type": "stream",
     "text": [
      "Epoch : 21 - loss : 0.6328 - acc: 0.6621 - val_loss : 0.6370 - val_acc: 0.6564\n"
     ]
    },
    {
     "data": {
      "text/plain": "  0%|          | 0/8230 [00:00<?, ?it/s]",
      "application/vnd.jupyter.widget-view+json": {
       "version_major": 2,
       "version_minor": 0,
       "model_id": "1003459d8fb24c7aa4628d24c0d38c63"
      }
     },
     "metadata": {},
     "output_type": "display_data"
    },
    {
     "data": {
      "text/plain": "  0%|          | 0/2058 [00:00<?, ?it/s]",
      "application/vnd.jupyter.widget-view+json": {
       "version_major": 2,
       "version_minor": 0,
       "model_id": "bbc371652c2c4a65a1f92bbc2edc3214"
      }
     },
     "metadata": {},
     "output_type": "display_data"
    },
    {
     "name": "stdout",
     "output_type": "stream",
     "text": [
      "Epoch : 22 - loss : 0.6324 - acc: 0.6629 - val_loss : 0.6363 - val_acc: 0.6587\n"
     ]
    },
    {
     "data": {
      "text/plain": "  0%|          | 0/8230 [00:00<?, ?it/s]",
      "application/vnd.jupyter.widget-view+json": {
       "version_major": 2,
       "version_minor": 0,
       "model_id": "de17ce2e368745e68587228d0d2ee297"
      }
     },
     "metadata": {},
     "output_type": "display_data"
    },
    {
     "data": {
      "text/plain": "  0%|          | 0/2058 [00:00<?, ?it/s]",
      "application/vnd.jupyter.widget-view+json": {
       "version_major": 2,
       "version_minor": 0,
       "model_id": "7f49fedda6b54de1893c5beaf43c059e"
      }
     },
     "metadata": {},
     "output_type": "display_data"
    },
    {
     "name": "stdout",
     "output_type": "stream",
     "text": [
      "Epoch : 23 - loss : 0.6318 - acc: 0.6643 - val_loss : 0.6370 - val_acc: 0.6562\n"
     ]
    },
    {
     "data": {
      "text/plain": "  0%|          | 0/8230 [00:00<?, ?it/s]",
      "application/vnd.jupyter.widget-view+json": {
       "version_major": 2,
       "version_minor": 0,
       "model_id": "4f38404f94624f83b9ca75153d489493"
      }
     },
     "metadata": {},
     "output_type": "display_data"
    },
    {
     "data": {
      "text/plain": "  0%|          | 0/2058 [00:00<?, ?it/s]",
      "application/vnd.jupyter.widget-view+json": {
       "version_major": 2,
       "version_minor": 0,
       "model_id": "afbd10e2f41140e4b6be70d0968296be"
      }
     },
     "metadata": {},
     "output_type": "display_data"
    },
    {
     "name": "stdout",
     "output_type": "stream",
     "text": [
      "Epoch : 24 - loss : 0.6314 - acc: 0.6653 - val_loss : 0.6369 - val_acc: 0.6579\n"
     ]
    },
    {
     "data": {
      "text/plain": "  0%|          | 0/8230 [00:00<?, ?it/s]",
      "application/vnd.jupyter.widget-view+json": {
       "version_major": 2,
       "version_minor": 0,
       "model_id": "6eddc36d78364558b8dadf5393eb7eac"
      }
     },
     "metadata": {},
     "output_type": "display_data"
    },
    {
     "data": {
      "text/plain": "  0%|          | 0/2058 [00:00<?, ?it/s]",
      "application/vnd.jupyter.widget-view+json": {
       "version_major": 2,
       "version_minor": 0,
       "model_id": "1bc3bc8c712349ae941880662a9961d7"
      }
     },
     "metadata": {},
     "output_type": "display_data"
    },
    {
     "name": "stdout",
     "output_type": "stream",
     "text": [
      "Epoch : 25 - loss : 0.6308 - acc: 0.6672 - val_loss : 0.6370 - val_acc: 0.6577\n"
     ]
    },
    {
     "data": {
      "text/plain": "  0%|          | 0/8230 [00:00<?, ?it/s]",
      "application/vnd.jupyter.widget-view+json": {
       "version_major": 2,
       "version_minor": 0,
       "model_id": "a8691b80759a420b8e74fd39604f4b5d"
      }
     },
     "metadata": {},
     "output_type": "display_data"
    },
    {
     "data": {
      "text/plain": "  0%|          | 0/2058 [00:00<?, ?it/s]",
      "application/vnd.jupyter.widget-view+json": {
       "version_major": 2,
       "version_minor": 0,
       "model_id": "9c90ae7073df4ba9b1b187994b40b9f5"
      }
     },
     "metadata": {},
     "output_type": "display_data"
    },
    {
     "name": "stdout",
     "output_type": "stream",
     "text": [
      "Epoch : 26 - loss : 0.6304 - acc: 0.6676 - val_loss : 0.6357 - val_acc: 0.6595\n"
     ]
    },
    {
     "data": {
      "text/plain": "  0%|          | 0/8230 [00:00<?, ?it/s]",
      "application/vnd.jupyter.widget-view+json": {
       "version_major": 2,
       "version_minor": 0,
       "model_id": "cc39c7bf3b834c8f80f8791ff84aa8b5"
      }
     },
     "metadata": {},
     "output_type": "display_data"
    },
    {
     "data": {
      "text/plain": "  0%|          | 0/2058 [00:00<?, ?it/s]",
      "application/vnd.jupyter.widget-view+json": {
       "version_major": 2,
       "version_minor": 0,
       "model_id": "bfb6da3cb6b3418194ec54001a32757a"
      }
     },
     "metadata": {},
     "output_type": "display_data"
    },
    {
     "name": "stdout",
     "output_type": "stream",
     "text": [
      "Epoch : 27 - loss : 0.6297 - acc: 0.6690 - val_loss : 0.6355 - val_acc: 0.6612\n"
     ]
    },
    {
     "data": {
      "text/plain": "  0%|          | 0/8230 [00:00<?, ?it/s]",
      "application/vnd.jupyter.widget-view+json": {
       "version_major": 2,
       "version_minor": 0,
       "model_id": "1dfec026de22498c9b763a029f3046bf"
      }
     },
     "metadata": {},
     "output_type": "display_data"
    },
    {
     "data": {
      "text/plain": "  0%|          | 0/2058 [00:00<?, ?it/s]",
      "application/vnd.jupyter.widget-view+json": {
       "version_major": 2,
       "version_minor": 0,
       "model_id": "35a53dee11004cb7b6bf16cf16ef6454"
      }
     },
     "metadata": {},
     "output_type": "display_data"
    },
    {
     "name": "stdout",
     "output_type": "stream",
     "text": [
      "Epoch : 28 - loss : 0.6294 - acc: 0.6687 - val_loss : 0.6359 - val_acc: 0.6611\n"
     ]
    },
    {
     "data": {
      "text/plain": "  0%|          | 0/8230 [00:00<?, ?it/s]",
      "application/vnd.jupyter.widget-view+json": {
       "version_major": 2,
       "version_minor": 0,
       "model_id": "f577de023ede4ade9932a4d70e1ca040"
      }
     },
     "metadata": {},
     "output_type": "display_data"
    },
    {
     "data": {
      "text/plain": "  0%|          | 0/2058 [00:00<?, ?it/s]",
      "application/vnd.jupyter.widget-view+json": {
       "version_major": 2,
       "version_minor": 0,
       "model_id": "6ee866b1789e495bb060139d94e12f62"
      }
     },
     "metadata": {},
     "output_type": "display_data"
    },
    {
     "name": "stdout",
     "output_type": "stream",
     "text": [
      "Epoch : 29 - loss : 0.6289 - acc: 0.6700 - val_loss : 0.6367 - val_acc: 0.6606\n"
     ]
    },
    {
     "data": {
      "text/plain": "  0%|          | 0/8230 [00:00<?, ?it/s]",
      "application/vnd.jupyter.widget-view+json": {
       "version_major": 2,
       "version_minor": 0,
       "model_id": "c3667e4737cf4cd48da09a0724c1eb6b"
      }
     },
     "metadata": {},
     "output_type": "display_data"
    },
    {
     "data": {
      "text/plain": "  0%|          | 0/2058 [00:00<?, ?it/s]",
      "application/vnd.jupyter.widget-view+json": {
       "version_major": 2,
       "version_minor": 0,
       "model_id": "c7d8c7700b3942cf81eb231df61ef8b7"
      }
     },
     "metadata": {},
     "output_type": "display_data"
    },
    {
     "name": "stdout",
     "output_type": "stream",
     "text": [
      "Epoch : 30 - loss : 0.6285 - acc: 0.6710 - val_loss : 0.6366 - val_acc: 0.6592\n"
     ]
    },
    {
     "data": {
      "text/plain": "  0%|          | 0/8230 [00:00<?, ?it/s]",
      "application/vnd.jupyter.widget-view+json": {
       "version_major": 2,
       "version_minor": 0,
       "model_id": "f7683e07b2a94d2ab392774c6d6a0900"
      }
     },
     "metadata": {},
     "output_type": "display_data"
    },
    {
     "data": {
      "text/plain": "  0%|          | 0/2058 [00:00<?, ?it/s]",
      "application/vnd.jupyter.widget-view+json": {
       "version_major": 2,
       "version_minor": 0,
       "model_id": "1c7ca936f7dc4357ad8367e7dc1037d9"
      }
     },
     "metadata": {},
     "output_type": "display_data"
    },
    {
     "name": "stdout",
     "output_type": "stream",
     "text": [
      "Epoch : 31 - loss : 0.6280 - acc: 0.6712 - val_loss : 0.6359 - val_acc: 0.6613\n"
     ]
    },
    {
     "data": {
      "text/plain": "  0%|          | 0/8230 [00:00<?, ?it/s]",
      "application/vnd.jupyter.widget-view+json": {
       "version_major": 2,
       "version_minor": 0,
       "model_id": "fd51a2b402594503973f0a689f02ab39"
      }
     },
     "metadata": {},
     "output_type": "display_data"
    },
    {
     "data": {
      "text/plain": "  0%|          | 0/2058 [00:00<?, ?it/s]",
      "application/vnd.jupyter.widget-view+json": {
       "version_major": 2,
       "version_minor": 0,
       "model_id": "db17c85b1a0249efa62ecc6ff1cdbb49"
      }
     },
     "metadata": {},
     "output_type": "display_data"
    },
    {
     "name": "stdout",
     "output_type": "stream",
     "text": [
      "Epoch : 32 - loss : 0.6274 - acc: 0.6726 - val_loss : 0.6358 - val_acc: 0.6599\n"
     ]
    },
    {
     "data": {
      "text/plain": "  0%|          | 0/8230 [00:00<?, ?it/s]",
      "application/vnd.jupyter.widget-view+json": {
       "version_major": 2,
       "version_minor": 0,
       "model_id": "fe53fd0dfa474287893ba1b6ee970084"
      }
     },
     "metadata": {},
     "output_type": "display_data"
    },
    {
     "data": {
      "text/plain": "  0%|          | 0/2058 [00:00<?, ?it/s]",
      "application/vnd.jupyter.widget-view+json": {
       "version_major": 2,
       "version_minor": 0,
       "model_id": "8c990a3ff0664a13b6a40dfa7c6e1157"
      }
     },
     "metadata": {},
     "output_type": "display_data"
    },
    {
     "name": "stdout",
     "output_type": "stream",
     "text": [
      "Epoch : 33 - loss : 0.6271 - acc: 0.6734 - val_loss : 0.6358 - val_acc: 0.6626\n"
     ]
    },
    {
     "data": {
      "text/plain": "  0%|          | 0/8230 [00:00<?, ?it/s]",
      "application/vnd.jupyter.widget-view+json": {
       "version_major": 2,
       "version_minor": 0,
       "model_id": "0091cd66de10441ba6140b688872a8c7"
      }
     },
     "metadata": {},
     "output_type": "display_data"
    },
    {
     "data": {
      "text/plain": "  0%|          | 0/2058 [00:00<?, ?it/s]",
      "application/vnd.jupyter.widget-view+json": {
       "version_major": 2,
       "version_minor": 0,
       "model_id": "939aec78386d41dca82f5a9dc35ce6c7"
      }
     },
     "metadata": {},
     "output_type": "display_data"
    },
    {
     "name": "stdout",
     "output_type": "stream",
     "text": [
      "Epoch : 34 - loss : 0.6267 - acc: 0.6736 - val_loss : 0.6355 - val_acc: 0.6617\n"
     ]
    },
    {
     "data": {
      "text/plain": "  0%|          | 0/8230 [00:00<?, ?it/s]",
      "application/vnd.jupyter.widget-view+json": {
       "version_major": 2,
       "version_minor": 0,
       "model_id": "163d97343daf44b496ccb5beca7ca354"
      }
     },
     "metadata": {},
     "output_type": "display_data"
    },
    {
     "data": {
      "text/plain": "  0%|          | 0/2058 [00:00<?, ?it/s]",
      "application/vnd.jupyter.widget-view+json": {
       "version_major": 2,
       "version_minor": 0,
       "model_id": "0d72a6653bdd42d9b3faedd4241a965c"
      }
     },
     "metadata": {},
     "output_type": "display_data"
    },
    {
     "name": "stdout",
     "output_type": "stream",
     "text": [
      "Epoch : 35 - loss : 0.6262 - acc: 0.6747 - val_loss : 0.6359 - val_acc: 0.6623\n"
     ]
    },
    {
     "data": {
      "text/plain": "  0%|          | 0/8230 [00:00<?, ?it/s]",
      "application/vnd.jupyter.widget-view+json": {
       "version_major": 2,
       "version_minor": 0,
       "model_id": "3c5716c0116a49eb8af14c1b1412ef60"
      }
     },
     "metadata": {},
     "output_type": "display_data"
    },
    {
     "data": {
      "text/plain": "  0%|          | 0/2058 [00:00<?, ?it/s]",
      "application/vnd.jupyter.widget-view+json": {
       "version_major": 2,
       "version_minor": 0,
       "model_id": "3dfdbfca440a4ab9a6627b49cab31a1c"
      }
     },
     "metadata": {},
     "output_type": "display_data"
    },
    {
     "name": "stdout",
     "output_type": "stream",
     "text": [
      "Epoch : 36 - loss : 0.6260 - acc: 0.6756 - val_loss : 0.6351 - val_acc: 0.6591\n"
     ]
    },
    {
     "data": {
      "text/plain": "  0%|          | 0/8230 [00:00<?, ?it/s]",
      "application/vnd.jupyter.widget-view+json": {
       "version_major": 2,
       "version_minor": 0,
       "model_id": "686b91da575a43b186d6428e12a12094"
      }
     },
     "metadata": {},
     "output_type": "display_data"
    },
    {
     "data": {
      "text/plain": "  0%|          | 0/2058 [00:00<?, ?it/s]",
      "application/vnd.jupyter.widget-view+json": {
       "version_major": 2,
       "version_minor": 0,
       "model_id": "ca4f55f808154ae7b4d4acbb6407da96"
      }
     },
     "metadata": {},
     "output_type": "display_data"
    },
    {
     "name": "stdout",
     "output_type": "stream",
     "text": [
      "Epoch : 37 - loss : 0.6255 - acc: 0.6755 - val_loss : 0.6352 - val_acc: 0.6610\n"
     ]
    },
    {
     "data": {
      "text/plain": "  0%|          | 0/8230 [00:00<?, ?it/s]",
      "application/vnd.jupyter.widget-view+json": {
       "version_major": 2,
       "version_minor": 0,
       "model_id": "88d97763044a4aba888de1767c4fe698"
      }
     },
     "metadata": {},
     "output_type": "display_data"
    },
    {
     "data": {
      "text/plain": "  0%|          | 0/2058 [00:00<?, ?it/s]",
      "application/vnd.jupyter.widget-view+json": {
       "version_major": 2,
       "version_minor": 0,
       "model_id": "30a252a377f747169d1a4cd0e39191c2"
      }
     },
     "metadata": {},
     "output_type": "display_data"
    },
    {
     "name": "stdout",
     "output_type": "stream",
     "text": [
      "Epoch : 38 - loss : 0.6251 - acc: 0.6763 - val_loss : 0.6346 - val_acc: 0.6624\n"
     ]
    },
    {
     "data": {
      "text/plain": "  0%|          | 0/8230 [00:00<?, ?it/s]",
      "application/vnd.jupyter.widget-view+json": {
       "version_major": 2,
       "version_minor": 0,
       "model_id": "f51a18363c4d48469142c0030377e462"
      }
     },
     "metadata": {},
     "output_type": "display_data"
    },
    {
     "data": {
      "text/plain": "  0%|          | 0/2058 [00:00<?, ?it/s]",
      "application/vnd.jupyter.widget-view+json": {
       "version_major": 2,
       "version_minor": 0,
       "model_id": "fc741a4083e2429eaac95d7ef6369272"
      }
     },
     "metadata": {},
     "output_type": "display_data"
    },
    {
     "name": "stdout",
     "output_type": "stream",
     "text": [
      "Epoch : 39 - loss : 0.6249 - acc: 0.6761 - val_loss : 0.6356 - val_acc: 0.6622\n"
     ]
    },
    {
     "data": {
      "text/plain": "  0%|          | 0/8230 [00:00<?, ?it/s]",
      "application/vnd.jupyter.widget-view+json": {
       "version_major": 2,
       "version_minor": 0,
       "model_id": "3ab21ba55e3d46b68fb693bd7b99b22b"
      }
     },
     "metadata": {},
     "output_type": "display_data"
    },
    {
     "data": {
      "text/plain": "  0%|          | 0/2058 [00:00<?, ?it/s]",
      "application/vnd.jupyter.widget-view+json": {
       "version_major": 2,
       "version_minor": 0,
       "model_id": "8bfee52a05c64a8db392215a604019cd"
      }
     },
     "metadata": {},
     "output_type": "display_data"
    },
    {
     "name": "stdout",
     "output_type": "stream",
     "text": [
      "Epoch : 40 - loss : 0.6245 - acc: 0.6773 - val_loss : 0.6349 - val_acc: 0.6630\n"
     ]
    },
    {
     "data": {
      "text/plain": "  0%|          | 0/8230 [00:00<?, ?it/s]",
      "application/vnd.jupyter.widget-view+json": {
       "version_major": 2,
       "version_minor": 0,
       "model_id": "c384c3b7a350431b946ef3059a5baf3d"
      }
     },
     "metadata": {},
     "output_type": "display_data"
    },
    {
     "data": {
      "text/plain": "  0%|          | 0/2058 [00:00<?, ?it/s]",
      "application/vnd.jupyter.widget-view+json": {
       "version_major": 2,
       "version_minor": 0,
       "model_id": "0eee9ad4d2344843a4452f72ade161ef"
      }
     },
     "metadata": {},
     "output_type": "display_data"
    },
    {
     "name": "stdout",
     "output_type": "stream",
     "text": [
      "Epoch : 41 - loss : 0.6241 - acc: 0.6779 - val_loss : 0.6359 - val_acc: 0.6626\n"
     ]
    },
    {
     "data": {
      "text/plain": "  0%|          | 0/8230 [00:00<?, ?it/s]",
      "application/vnd.jupyter.widget-view+json": {
       "version_major": 2,
       "version_minor": 0,
       "model_id": "5317c5a8d2824b679a9fa6c4d57b62a2"
      }
     },
     "metadata": {},
     "output_type": "display_data"
    },
    {
     "data": {
      "text/plain": "  0%|          | 0/2058 [00:00<?, ?it/s]",
      "application/vnd.jupyter.widget-view+json": {
       "version_major": 2,
       "version_minor": 0,
       "model_id": "0c137171b1264506a88be255d5bc8481"
      }
     },
     "metadata": {},
     "output_type": "display_data"
    },
    {
     "name": "stdout",
     "output_type": "stream",
     "text": [
      "Epoch : 42 - loss : 0.6238 - acc: 0.6789 - val_loss : 0.6349 - val_acc: 0.6629\n"
     ]
    },
    {
     "data": {
      "text/plain": "  0%|          | 0/8230 [00:00<?, ?it/s]",
      "application/vnd.jupyter.widget-view+json": {
       "version_major": 2,
       "version_minor": 0,
       "model_id": "fbd7288ffa674505ad8623ec13846358"
      }
     },
     "metadata": {},
     "output_type": "display_data"
    },
    {
     "data": {
      "text/plain": "  0%|          | 0/2058 [00:00<?, ?it/s]",
      "application/vnd.jupyter.widget-view+json": {
       "version_major": 2,
       "version_minor": 0,
       "model_id": "f2e60750deda4f3797db38609aae7e14"
      }
     },
     "metadata": {},
     "output_type": "display_data"
    },
    {
     "name": "stdout",
     "output_type": "stream",
     "text": [
      "Epoch : 43 - loss : 0.6236 - acc: 0.6793 - val_loss : 0.6356 - val_acc: 0.6604\n"
     ]
    },
    {
     "data": {
      "text/plain": "  0%|          | 0/8230 [00:00<?, ?it/s]",
      "application/vnd.jupyter.widget-view+json": {
       "version_major": 2,
       "version_minor": 0,
       "model_id": "d44a1ed8936545cbbd76a893e3687d01"
      }
     },
     "metadata": {},
     "output_type": "display_data"
    },
    {
     "data": {
      "text/plain": "  0%|          | 0/2058 [00:00<?, ?it/s]",
      "application/vnd.jupyter.widget-view+json": {
       "version_major": 2,
       "version_minor": 0,
       "model_id": "676101479af84a14a3b625234505b3ed"
      }
     },
     "metadata": {},
     "output_type": "display_data"
    },
    {
     "name": "stdout",
     "output_type": "stream",
     "text": [
      "Epoch : 44 - loss : 0.6232 - acc: 0.6794 - val_loss : 0.6358 - val_acc: 0.6610\n"
     ]
    },
    {
     "data": {
      "text/plain": "  0%|          | 0/8230 [00:00<?, ?it/s]",
      "application/vnd.jupyter.widget-view+json": {
       "version_major": 2,
       "version_minor": 0,
       "model_id": "404209cfe2c04b46b7b430044df3c68d"
      }
     },
     "metadata": {},
     "output_type": "display_data"
    },
    {
     "data": {
      "text/plain": "  0%|          | 0/2058 [00:00<?, ?it/s]",
      "application/vnd.jupyter.widget-view+json": {
       "version_major": 2,
       "version_minor": 0,
       "model_id": "84c2fc9e8f3542e4873a1b9e2d89949e"
      }
     },
     "metadata": {},
     "output_type": "display_data"
    },
    {
     "name": "stdout",
     "output_type": "stream",
     "text": [
      "Epoch : 45 - loss : 0.6229 - acc: 0.6802 - val_loss : 0.6353 - val_acc: 0.6629\n"
     ]
    },
    {
     "data": {
      "text/plain": "  0%|          | 0/8230 [00:00<?, ?it/s]",
      "application/vnd.jupyter.widget-view+json": {
       "version_major": 2,
       "version_minor": 0,
       "model_id": "ffb6743cf3304e0b8b9ccb6f9439dfce"
      }
     },
     "metadata": {},
     "output_type": "display_data"
    },
    {
     "data": {
      "text/plain": "  0%|          | 0/2058 [00:00<?, ?it/s]",
      "application/vnd.jupyter.widget-view+json": {
       "version_major": 2,
       "version_minor": 0,
       "model_id": "412a79649253484386128fc93d6a84a4"
      }
     },
     "metadata": {},
     "output_type": "display_data"
    },
    {
     "name": "stdout",
     "output_type": "stream",
     "text": [
      "Epoch : 46 - loss : 0.6226 - acc: 0.6807 - val_loss : 0.6351 - val_acc: 0.6641\n"
     ]
    },
    {
     "data": {
      "text/plain": "  0%|          | 0/8230 [00:00<?, ?it/s]",
      "application/vnd.jupyter.widget-view+json": {
       "version_major": 2,
       "version_minor": 0,
       "model_id": "d86f62b1381d425483f8cfecac1275c5"
      }
     },
     "metadata": {},
     "output_type": "display_data"
    },
    {
     "data": {
      "text/plain": "  0%|          | 0/2058 [00:00<?, ?it/s]",
      "application/vnd.jupyter.widget-view+json": {
       "version_major": 2,
       "version_minor": 0,
       "model_id": "20b2adf66f9047c182efa14533a00ddc"
      }
     },
     "metadata": {},
     "output_type": "display_data"
    },
    {
     "name": "stdout",
     "output_type": "stream",
     "text": [
      "Epoch : 47 - loss : 0.6225 - acc: 0.6805 - val_loss : 0.6357 - val_acc: 0.6604\n"
     ]
    },
    {
     "data": {
      "text/plain": "  0%|          | 0/8230 [00:00<?, ?it/s]",
      "application/vnd.jupyter.widget-view+json": {
       "version_major": 2,
       "version_minor": 0,
       "model_id": "e1f5dd4e981a41d49ef6c9d0858a98bb"
      }
     },
     "metadata": {},
     "output_type": "display_data"
    },
    {
     "data": {
      "text/plain": "  0%|          | 0/2058 [00:00<?, ?it/s]",
      "application/vnd.jupyter.widget-view+json": {
       "version_major": 2,
       "version_minor": 0,
       "model_id": "3e0e2a4dd54b414b8e5385c3481f0d76"
      }
     },
     "metadata": {},
     "output_type": "display_data"
    },
    {
     "name": "stdout",
     "output_type": "stream",
     "text": [
      "Epoch : 48 - loss : 0.6221 - acc: 0.6812 - val_loss : 0.6351 - val_acc: 0.6635\n"
     ]
    },
    {
     "data": {
      "text/plain": "  0%|          | 0/8230 [00:00<?, ?it/s]",
      "application/vnd.jupyter.widget-view+json": {
       "version_major": 2,
       "version_minor": 0,
       "model_id": "aae204f37bb344bbae74fd92dc154dca"
      }
     },
     "metadata": {},
     "output_type": "display_data"
    },
    {
     "data": {
      "text/plain": "  0%|          | 0/2058 [00:00<?, ?it/s]",
      "application/vnd.jupyter.widget-view+json": {
       "version_major": 2,
       "version_minor": 0,
       "model_id": "2f9bd019f03d431fa51158f103cf263e"
      }
     },
     "metadata": {},
     "output_type": "display_data"
    },
    {
     "name": "stdout",
     "output_type": "stream",
     "text": [
      "Epoch : 49 - loss : 0.6217 - acc: 0.6821 - val_loss : 0.6348 - val_acc: 0.6633\n"
     ]
    },
    {
     "data": {
      "text/plain": "  0%|          | 0/8230 [00:00<?, ?it/s]",
      "application/vnd.jupyter.widget-view+json": {
       "version_major": 2,
       "version_minor": 0,
       "model_id": "c278730853064ff1ad80e1237e785ccd"
      }
     },
     "metadata": {},
     "output_type": "display_data"
    },
    {
     "data": {
      "text/plain": "  0%|          | 0/2058 [00:00<?, ?it/s]",
      "application/vnd.jupyter.widget-view+json": {
       "version_major": 2,
       "version_minor": 0,
       "model_id": "f3b681f834e9496db39a47abab724c33"
      }
     },
     "metadata": {},
     "output_type": "display_data"
    },
    {
     "name": "stdout",
     "output_type": "stream",
     "text": [
      "Epoch : 50 - loss : 0.6214 - acc: 0.6818 - val_loss : 0.6352 - val_acc: 0.6617\n"
     ]
    },
    {
     "data": {
      "text/plain": "  0%|          | 0/8230 [00:00<?, ?it/s]",
      "application/vnd.jupyter.widget-view+json": {
       "version_major": 2,
       "version_minor": 0,
       "model_id": "b3dd8716903e4889898aeac623a56aa7"
      }
     },
     "metadata": {},
     "output_type": "display_data"
    },
    {
     "data": {
      "text/plain": "  0%|          | 0/2058 [00:00<?, ?it/s]",
      "application/vnd.jupyter.widget-view+json": {
       "version_major": 2,
       "version_minor": 0,
       "model_id": "add0d43c41334e539351d5f63baa8117"
      }
     },
     "metadata": {},
     "output_type": "display_data"
    },
    {
     "name": "stdout",
     "output_type": "stream",
     "text": [
      "Epoch : 51 - loss : 0.6213 - acc: 0.6819 - val_loss : 0.6349 - val_acc: 0.6635\n"
     ]
    },
    {
     "data": {
      "text/plain": "  0%|          | 0/8230 [00:00<?, ?it/s]",
      "application/vnd.jupyter.widget-view+json": {
       "version_major": 2,
       "version_minor": 0,
       "model_id": "fe2fe0f3935647a98f3e76552901624e"
      }
     },
     "metadata": {},
     "output_type": "display_data"
    },
    {
     "data": {
      "text/plain": "  0%|          | 0/2058 [00:00<?, ?it/s]",
      "application/vnd.jupyter.widget-view+json": {
       "version_major": 2,
       "version_minor": 0,
       "model_id": "dadea60c34554ce5a84ec056116f9121"
      }
     },
     "metadata": {},
     "output_type": "display_data"
    },
    {
     "name": "stdout",
     "output_type": "stream",
     "text": [
      "Epoch : 52 - loss : 0.6211 - acc: 0.6824 - val_loss : 0.6349 - val_acc: 0.6642\n"
     ]
    },
    {
     "data": {
      "text/plain": "  0%|          | 0/8230 [00:00<?, ?it/s]",
      "application/vnd.jupyter.widget-view+json": {
       "version_major": 2,
       "version_minor": 0,
       "model_id": "391440a3cb274284bea1361a6788b75f"
      }
     },
     "metadata": {},
     "output_type": "display_data"
    },
    {
     "data": {
      "text/plain": "  0%|          | 0/2058 [00:00<?, ?it/s]",
      "application/vnd.jupyter.widget-view+json": {
       "version_major": 2,
       "version_minor": 0,
       "model_id": "ac0c3625eada466b9ab5644f4d3c0dd9"
      }
     },
     "metadata": {},
     "output_type": "display_data"
    },
    {
     "name": "stdout",
     "output_type": "stream",
     "text": [
      "Epoch : 53 - loss : 0.6207 - acc: 0.6828 - val_loss : 0.6354 - val_acc: 0.6633\n"
     ]
    },
    {
     "data": {
      "text/plain": "  0%|          | 0/8230 [00:00<?, ?it/s]",
      "application/vnd.jupyter.widget-view+json": {
       "version_major": 2,
       "version_minor": 0,
       "model_id": "887109b7eac047cd9e9e366677fa376f"
      }
     },
     "metadata": {},
     "output_type": "display_data"
    },
    {
     "data": {
      "text/plain": "  0%|          | 0/2058 [00:00<?, ?it/s]",
      "application/vnd.jupyter.widget-view+json": {
       "version_major": 2,
       "version_minor": 0,
       "model_id": "2384e85da6684a8faaf3ba21bcca58ef"
      }
     },
     "metadata": {},
     "output_type": "display_data"
    },
    {
     "name": "stdout",
     "output_type": "stream",
     "text": [
      "Epoch : 54 - loss : 0.6204 - acc: 0.6833 - val_loss : 0.6345 - val_acc: 0.6643\n"
     ]
    },
    {
     "data": {
      "text/plain": "  0%|          | 0/8230 [00:00<?, ?it/s]",
      "application/vnd.jupyter.widget-view+json": {
       "version_major": 2,
       "version_minor": 0,
       "model_id": "4a624de05f3e418ebdeabe41542f0668"
      }
     },
     "metadata": {},
     "output_type": "display_data"
    },
    {
     "data": {
      "text/plain": "  0%|          | 0/2058 [00:00<?, ?it/s]",
      "application/vnd.jupyter.widget-view+json": {
       "version_major": 2,
       "version_minor": 0,
       "model_id": "a3012da5aee84d578113fb108140dd3a"
      }
     },
     "metadata": {},
     "output_type": "display_data"
    },
    {
     "name": "stdout",
     "output_type": "stream",
     "text": [
      "Epoch : 55 - loss : 0.6204 - acc: 0.6840 - val_loss : 0.6346 - val_acc: 0.6644\n"
     ]
    },
    {
     "data": {
      "text/plain": "  0%|          | 0/8230 [00:00<?, ?it/s]",
      "application/vnd.jupyter.widget-view+json": {
       "version_major": 2,
       "version_minor": 0,
       "model_id": "e20ac8637e964d81a0cb2b0d033fd5b3"
      }
     },
     "metadata": {},
     "output_type": "display_data"
    },
    {
     "data": {
      "text/plain": "  0%|          | 0/2058 [00:00<?, ?it/s]",
      "application/vnd.jupyter.widget-view+json": {
       "version_major": 2,
       "version_minor": 0,
       "model_id": "59900305cf5346f89821ea7e7c851b05"
      }
     },
     "metadata": {},
     "output_type": "display_data"
    },
    {
     "name": "stdout",
     "output_type": "stream",
     "text": [
      "Epoch : 56 - loss : 0.6201 - acc: 0.6839 - val_loss : 0.6347 - val_acc: 0.6654\n"
     ]
    },
    {
     "data": {
      "text/plain": "  0%|          | 0/8230 [00:00<?, ?it/s]",
      "application/vnd.jupyter.widget-view+json": {
       "version_major": 2,
       "version_minor": 0,
       "model_id": "f9266b434fab459f8539e84fd9a94923"
      }
     },
     "metadata": {},
     "output_type": "display_data"
    },
    {
     "data": {
      "text/plain": "  0%|          | 0/2058 [00:00<?, ?it/s]",
      "application/vnd.jupyter.widget-view+json": {
       "version_major": 2,
       "version_minor": 0,
       "model_id": "edef96048377436f810f5606894437ab"
      }
     },
     "metadata": {},
     "output_type": "display_data"
    },
    {
     "name": "stdout",
     "output_type": "stream",
     "text": [
      "Epoch : 57 - loss : 0.6199 - acc: 0.6853 - val_loss : 0.6348 - val_acc: 0.6648\n"
     ]
    },
    {
     "data": {
      "text/plain": "  0%|          | 0/8230 [00:00<?, ?it/s]",
      "application/vnd.jupyter.widget-view+json": {
       "version_major": 2,
       "version_minor": 0,
       "model_id": "4ac94ed903d241649055f67345876d9a"
      }
     },
     "metadata": {},
     "output_type": "display_data"
    },
    {
     "data": {
      "text/plain": "  0%|          | 0/2058 [00:00<?, ?it/s]",
      "application/vnd.jupyter.widget-view+json": {
       "version_major": 2,
       "version_minor": 0,
       "model_id": "b47c0d89ba3146a6a3331f127509f999"
      }
     },
     "metadata": {},
     "output_type": "display_data"
    },
    {
     "name": "stdout",
     "output_type": "stream",
     "text": [
      "Epoch : 58 - loss : 0.6197 - acc: 0.6848 - val_loss : 0.6353 - val_acc: 0.6641\n"
     ]
    },
    {
     "data": {
      "text/plain": "  0%|          | 0/8230 [00:00<?, ?it/s]",
      "application/vnd.jupyter.widget-view+json": {
       "version_major": 2,
       "version_minor": 0,
       "model_id": "9b7df7ce37224143b52857ec11726264"
      }
     },
     "metadata": {},
     "output_type": "display_data"
    },
    {
     "data": {
      "text/plain": "  0%|          | 0/2058 [00:00<?, ?it/s]",
      "application/vnd.jupyter.widget-view+json": {
       "version_major": 2,
       "version_minor": 0,
       "model_id": "a8ac9dcd8dfe4108a96d7a416a2f68af"
      }
     },
     "metadata": {},
     "output_type": "display_data"
    },
    {
     "name": "stdout",
     "output_type": "stream",
     "text": [
      "Epoch : 59 - loss : 0.6196 - acc: 0.6856 - val_loss : 0.6354 - val_acc: 0.6639\n"
     ]
    },
    {
     "data": {
      "text/plain": "  0%|          | 0/8230 [00:00<?, ?it/s]",
      "application/vnd.jupyter.widget-view+json": {
       "version_major": 2,
       "version_minor": 0,
       "model_id": "b7ccb0242da2489ebf41ac7b4d768754"
      }
     },
     "metadata": {},
     "output_type": "display_data"
    },
    {
     "data": {
      "text/plain": "  0%|          | 0/2058 [00:00<?, ?it/s]",
      "application/vnd.jupyter.widget-view+json": {
       "version_major": 2,
       "version_minor": 0,
       "model_id": "e5f56c60148849a589f19e75ad0735e0"
      }
     },
     "metadata": {},
     "output_type": "display_data"
    },
    {
     "name": "stdout",
     "output_type": "stream",
     "text": [
      "Epoch : 60 - loss : 0.6191 - acc: 0.6853 - val_loss : 0.6348 - val_acc: 0.6641\n"
     ]
    },
    {
     "data": {
      "text/plain": "  0%|          | 0/8230 [00:00<?, ?it/s]",
      "application/vnd.jupyter.widget-view+json": {
       "version_major": 2,
       "version_minor": 0,
       "model_id": "458adf09e32b43889d9730ba7f5c2ba8"
      }
     },
     "metadata": {},
     "output_type": "display_data"
    },
    {
     "data": {
      "text/plain": "  0%|          | 0/2058 [00:00<?, ?it/s]",
      "application/vnd.jupyter.widget-view+json": {
       "version_major": 2,
       "version_minor": 0,
       "model_id": "8f1c57cd1ff740acbf1f48c5a082a343"
      }
     },
     "metadata": {},
     "output_type": "display_data"
    },
    {
     "name": "stdout",
     "output_type": "stream",
     "text": [
      "Epoch : 61 - loss : 0.6192 - acc: 0.6855 - val_loss : 0.6346 - val_acc: 0.6622\n"
     ]
    },
    {
     "data": {
      "text/plain": "  0%|          | 0/8230 [00:00<?, ?it/s]",
      "application/vnd.jupyter.widget-view+json": {
       "version_major": 2,
       "version_minor": 0,
       "model_id": "7a13b0ebff6740969a6c512f543a82fa"
      }
     },
     "metadata": {},
     "output_type": "display_data"
    },
    {
     "data": {
      "text/plain": "  0%|          | 0/2058 [00:00<?, ?it/s]",
      "application/vnd.jupyter.widget-view+json": {
       "version_major": 2,
       "version_minor": 0,
       "model_id": "b1f2f6351d3f4e4f99a85111a6036ef9"
      }
     },
     "metadata": {},
     "output_type": "display_data"
    },
    {
     "name": "stdout",
     "output_type": "stream",
     "text": [
      "Epoch : 62 - loss : 0.6189 - acc: 0.6861 - val_loss : 0.6349 - val_acc: 0.6648\n"
     ]
    },
    {
     "data": {
      "text/plain": "  0%|          | 0/8230 [00:00<?, ?it/s]",
      "application/vnd.jupyter.widget-view+json": {
       "version_major": 2,
       "version_minor": 0,
       "model_id": "2fced945a5894d09ab78573586ce0e49"
      }
     },
     "metadata": {},
     "output_type": "display_data"
    },
    {
     "data": {
      "text/plain": "  0%|          | 0/2058 [00:00<?, ?it/s]",
      "application/vnd.jupyter.widget-view+json": {
       "version_major": 2,
       "version_minor": 0,
       "model_id": "a7aed2dc234f44c49c038d0b69ecd5c9"
      }
     },
     "metadata": {},
     "output_type": "display_data"
    },
    {
     "name": "stdout",
     "output_type": "stream",
     "text": [
      "Epoch : 63 - loss : 0.6187 - acc: 0.6864 - val_loss : 0.6348 - val_acc: 0.6662\n"
     ]
    },
    {
     "data": {
      "text/plain": "  0%|          | 0/8230 [00:00<?, ?it/s]",
      "application/vnd.jupyter.widget-view+json": {
       "version_major": 2,
       "version_minor": 0,
       "model_id": "ba7a31c50dd44767b5d145bbaa6fcb4c"
      }
     },
     "metadata": {},
     "output_type": "display_data"
    },
    {
     "data": {
      "text/plain": "  0%|          | 0/2058 [00:00<?, ?it/s]",
      "application/vnd.jupyter.widget-view+json": {
       "version_major": 2,
       "version_minor": 0,
       "model_id": "0f4af4b4e4b447e1af9801280f5215d0"
      }
     },
     "metadata": {},
     "output_type": "display_data"
    },
    {
     "name": "stdout",
     "output_type": "stream",
     "text": [
      "Epoch : 64 - loss : 0.6182 - acc: 0.6867 - val_loss : 0.6354 - val_acc: 0.6623\n"
     ]
    },
    {
     "data": {
      "text/plain": "  0%|          | 0/8230 [00:00<?, ?it/s]",
      "application/vnd.jupyter.widget-view+json": {
       "version_major": 2,
       "version_minor": 0,
       "model_id": "26fae80295024f38bd58b78ccbfa5616"
      }
     },
     "metadata": {},
     "output_type": "display_data"
    },
    {
     "data": {
      "text/plain": "  0%|          | 0/2058 [00:00<?, ?it/s]",
      "application/vnd.jupyter.widget-view+json": {
       "version_major": 2,
       "version_minor": 0,
       "model_id": "beeedd1c61a845be9a3b1edd5bb85a6e"
      }
     },
     "metadata": {},
     "output_type": "display_data"
    },
    {
     "name": "stdout",
     "output_type": "stream",
     "text": [
      "Epoch : 65 - loss : 0.6182 - acc: 0.6868 - val_loss : 0.6356 - val_acc: 0.6641\n"
     ]
    },
    {
     "data": {
      "text/plain": "  0%|          | 0/8230 [00:00<?, ?it/s]",
      "application/vnd.jupyter.widget-view+json": {
       "version_major": 2,
       "version_minor": 0,
       "model_id": "485209e635f3430bb151fabbab84511b"
      }
     },
     "metadata": {},
     "output_type": "display_data"
    },
    {
     "data": {
      "text/plain": "  0%|          | 0/2058 [00:00<?, ?it/s]",
      "application/vnd.jupyter.widget-view+json": {
       "version_major": 2,
       "version_minor": 0,
       "model_id": "ea3166f8729f4367a46c2914e3ea79dd"
      }
     },
     "metadata": {},
     "output_type": "display_data"
    },
    {
     "name": "stdout",
     "output_type": "stream",
     "text": [
      "Epoch : 66 - loss : 0.6182 - acc: 0.6875 - val_loss : 0.6342 - val_acc: 0.6642\n"
     ]
    },
    {
     "data": {
      "text/plain": "  0%|          | 0/8230 [00:00<?, ?it/s]",
      "application/vnd.jupyter.widget-view+json": {
       "version_major": 2,
       "version_minor": 0,
       "model_id": "6a591713622b4966874b1ac222565d88"
      }
     },
     "metadata": {},
     "output_type": "display_data"
    },
    {
     "data": {
      "text/plain": "  0%|          | 0/2058 [00:00<?, ?it/s]",
      "application/vnd.jupyter.widget-view+json": {
       "version_major": 2,
       "version_minor": 0,
       "model_id": "49444ac085aa4c5196152ab82de064c6"
      }
     },
     "metadata": {},
     "output_type": "display_data"
    },
    {
     "name": "stdout",
     "output_type": "stream",
     "text": [
      "Epoch : 67 - loss : 0.6179 - acc: 0.6877 - val_loss : 0.6352 - val_acc: 0.6650\n"
     ]
    },
    {
     "data": {
      "text/plain": "  0%|          | 0/8230 [00:00<?, ?it/s]",
      "application/vnd.jupyter.widget-view+json": {
       "version_major": 2,
       "version_minor": 0,
       "model_id": "ff47b5b0789448a79829bb15769d8bff"
      }
     },
     "metadata": {},
     "output_type": "display_data"
    },
    {
     "data": {
      "text/plain": "  0%|          | 0/2058 [00:00<?, ?it/s]",
      "application/vnd.jupyter.widget-view+json": {
       "version_major": 2,
       "version_minor": 0,
       "model_id": "eb175974fcf049d5b244670b6c1440c7"
      }
     },
     "metadata": {},
     "output_type": "display_data"
    },
    {
     "name": "stdout",
     "output_type": "stream",
     "text": [
      "Epoch : 68 - loss : 0.6178 - acc: 0.6875 - val_loss : 0.6361 - val_acc: 0.6655\n"
     ]
    },
    {
     "data": {
      "text/plain": "  0%|          | 0/8230 [00:00<?, ?it/s]",
      "application/vnd.jupyter.widget-view+json": {
       "version_major": 2,
       "version_minor": 0,
       "model_id": "0f26645886cd48d9a5d7d040efb905ff"
      }
     },
     "metadata": {},
     "output_type": "display_data"
    },
    {
     "data": {
      "text/plain": "  0%|          | 0/2058 [00:00<?, ?it/s]",
      "application/vnd.jupyter.widget-view+json": {
       "version_major": 2,
       "version_minor": 0,
       "model_id": "014857d4a9d64a3bb1486c807057923e"
      }
     },
     "metadata": {},
     "output_type": "display_data"
    },
    {
     "name": "stdout",
     "output_type": "stream",
     "text": [
      "Epoch : 69 - loss : 0.6175 - acc: 0.6877 - val_loss : 0.6350 - val_acc: 0.6643\n"
     ]
    },
    {
     "data": {
      "text/plain": "  0%|          | 0/8230 [00:00<?, ?it/s]",
      "application/vnd.jupyter.widget-view+json": {
       "version_major": 2,
       "version_minor": 0,
       "model_id": "da76b5e028e9481da498c33b161d1897"
      }
     },
     "metadata": {},
     "output_type": "display_data"
    },
    {
     "data": {
      "text/plain": "  0%|          | 0/2058 [00:00<?, ?it/s]",
      "application/vnd.jupyter.widget-view+json": {
       "version_major": 2,
       "version_minor": 0,
       "model_id": "d0fd89b4e0384657b5ce5cd5ee2a59de"
      }
     },
     "metadata": {},
     "output_type": "display_data"
    },
    {
     "name": "stdout",
     "output_type": "stream",
     "text": [
      "Epoch : 70 - loss : 0.6174 - acc: 0.6881 - val_loss : 0.6346 - val_acc: 0.6652\n"
     ]
    },
    {
     "data": {
      "text/plain": "  0%|          | 0/8230 [00:00<?, ?it/s]",
      "application/vnd.jupyter.widget-view+json": {
       "version_major": 2,
       "version_minor": 0,
       "model_id": "c964b3e7ceee486ca133cca9bbe09f99"
      }
     },
     "metadata": {},
     "output_type": "display_data"
    },
    {
     "data": {
      "text/plain": "  0%|          | 0/2058 [00:00<?, ?it/s]",
      "application/vnd.jupyter.widget-view+json": {
       "version_major": 2,
       "version_minor": 0,
       "model_id": "3c92620c7d954495a73817a0c22487bf"
      }
     },
     "metadata": {},
     "output_type": "display_data"
    },
    {
     "name": "stdout",
     "output_type": "stream",
     "text": [
      "Epoch : 71 - loss : 0.6173 - acc: 0.6874 - val_loss : 0.6350 - val_acc: 0.6658\n"
     ]
    },
    {
     "data": {
      "text/plain": "  0%|          | 0/8230 [00:00<?, ?it/s]",
      "application/vnd.jupyter.widget-view+json": {
       "version_major": 2,
       "version_minor": 0,
       "model_id": "b1cb1e68e7234649a4846277ba804ffc"
      }
     },
     "metadata": {},
     "output_type": "display_data"
    },
    {
     "data": {
      "text/plain": "  0%|          | 0/2058 [00:00<?, ?it/s]",
      "application/vnd.jupyter.widget-view+json": {
       "version_major": 2,
       "version_minor": 0,
       "model_id": "2cd44927193f4f5b9a6a0e923fbe31b3"
      }
     },
     "metadata": {},
     "output_type": "display_data"
    },
    {
     "name": "stdout",
     "output_type": "stream",
     "text": [
      "Epoch : 72 - loss : 0.6170 - acc: 0.6892 - val_loss : 0.6349 - val_acc: 0.6653\n"
     ]
    },
    {
     "data": {
      "text/plain": "  0%|          | 0/8230 [00:00<?, ?it/s]",
      "application/vnd.jupyter.widget-view+json": {
       "version_major": 2,
       "version_minor": 0,
       "model_id": "58fcfc9406ac4376820425f850c67824"
      }
     },
     "metadata": {},
     "output_type": "display_data"
    },
    {
     "data": {
      "text/plain": "  0%|          | 0/2058 [00:00<?, ?it/s]",
      "application/vnd.jupyter.widget-view+json": {
       "version_major": 2,
       "version_minor": 0,
       "model_id": "1afac020386e4a5093e108d0d0d871e8"
      }
     },
     "metadata": {},
     "output_type": "display_data"
    },
    {
     "name": "stdout",
     "output_type": "stream",
     "text": [
      "Epoch : 73 - loss : 0.6168 - acc: 0.6887 - val_loss : 0.6348 - val_acc: 0.6652\n"
     ]
    },
    {
     "data": {
      "text/plain": "  0%|          | 0/8230 [00:00<?, ?it/s]",
      "application/vnd.jupyter.widget-view+json": {
       "version_major": 2,
       "version_minor": 0,
       "model_id": "b8f89147e4884723aea65851dae081f1"
      }
     },
     "metadata": {},
     "output_type": "display_data"
    },
    {
     "data": {
      "text/plain": "  0%|          | 0/2058 [00:00<?, ?it/s]",
      "application/vnd.jupyter.widget-view+json": {
       "version_major": 2,
       "version_minor": 0,
       "model_id": "3d3e821d2187447f992ee79dca11272b"
      }
     },
     "metadata": {},
     "output_type": "display_data"
    },
    {
     "name": "stdout",
     "output_type": "stream",
     "text": [
      "Epoch : 74 - loss : 0.6168 - acc: 0.6892 - val_loss : 0.6344 - val_acc: 0.6656\n"
     ]
    },
    {
     "data": {
      "text/plain": "  0%|          | 0/8230 [00:00<?, ?it/s]",
      "application/vnd.jupyter.widget-view+json": {
       "version_major": 2,
       "version_minor": 0,
       "model_id": "8288bd6c9b9149eb9119c6a0cf39021a"
      }
     },
     "metadata": {},
     "output_type": "display_data"
    },
    {
     "data": {
      "text/plain": "  0%|          | 0/2058 [00:00<?, ?it/s]",
      "application/vnd.jupyter.widget-view+json": {
       "version_major": 2,
       "version_minor": 0,
       "model_id": "0e4d88cee24d44aa9fa8bcaf0d36dbda"
      }
     },
     "metadata": {},
     "output_type": "display_data"
    },
    {
     "name": "stdout",
     "output_type": "stream",
     "text": [
      "Epoch : 75 - loss : 0.6165 - acc: 0.6895 - val_loss : 0.6356 - val_acc: 0.6649\n"
     ]
    },
    {
     "data": {
      "text/plain": "  0%|          | 0/8230 [00:00<?, ?it/s]",
      "application/vnd.jupyter.widget-view+json": {
       "version_major": 2,
       "version_minor": 0,
       "model_id": "b57a0cc8aae64a67857538355d19ae0f"
      }
     },
     "metadata": {},
     "output_type": "display_data"
    },
    {
     "data": {
      "text/plain": "  0%|          | 0/2058 [00:00<?, ?it/s]",
      "application/vnd.jupyter.widget-view+json": {
       "version_major": 2,
       "version_minor": 0,
       "model_id": "6cfefaff29b44deeb006fe05cbc74d40"
      }
     },
     "metadata": {},
     "output_type": "display_data"
    },
    {
     "name": "stdout",
     "output_type": "stream",
     "text": [
      "Epoch : 76 - loss : 0.6164 - acc: 0.6901 - val_loss : 0.6350 - val_acc: 0.6591\n"
     ]
    },
    {
     "data": {
      "text/plain": "  0%|          | 0/8230 [00:00<?, ?it/s]",
      "application/vnd.jupyter.widget-view+json": {
       "version_major": 2,
       "version_minor": 0,
       "model_id": "1a040a53f80f4c09b3594176135ab777"
      }
     },
     "metadata": {},
     "output_type": "display_data"
    },
    {
     "data": {
      "text/plain": "  0%|          | 0/2058 [00:00<?, ?it/s]",
      "application/vnd.jupyter.widget-view+json": {
       "version_major": 2,
       "version_minor": 0,
       "model_id": "a11aeed182684479bb551189db26b5a4"
      }
     },
     "metadata": {},
     "output_type": "display_data"
    },
    {
     "name": "stdout",
     "output_type": "stream",
     "text": [
      "Epoch : 77 - loss : 0.6163 - acc: 0.6899 - val_loss : 0.6361 - val_acc: 0.6657\n"
     ]
    },
    {
     "data": {
      "text/plain": "  0%|          | 0/8230 [00:00<?, ?it/s]",
      "application/vnd.jupyter.widget-view+json": {
       "version_major": 2,
       "version_minor": 0,
       "model_id": "b112a89b09ea47b58c9fe056be51525d"
      }
     },
     "metadata": {},
     "output_type": "display_data"
    },
    {
     "data": {
      "text/plain": "  0%|          | 0/2058 [00:00<?, ?it/s]",
      "application/vnd.jupyter.widget-view+json": {
       "version_major": 2,
       "version_minor": 0,
       "model_id": "b19a8e9882c24a9983909069b737392b"
      }
     },
     "metadata": {},
     "output_type": "display_data"
    },
    {
     "name": "stdout",
     "output_type": "stream",
     "text": [
      "Epoch : 78 - loss : 0.6161 - acc: 0.6901 - val_loss : 0.6349 - val_acc: 0.6669\n"
     ]
    },
    {
     "data": {
      "text/plain": "  0%|          | 0/8230 [00:00<?, ?it/s]",
      "application/vnd.jupyter.widget-view+json": {
       "version_major": 2,
       "version_minor": 0,
       "model_id": "baeeb9c9224b4ede97132d06cb623b35"
      }
     },
     "metadata": {},
     "output_type": "display_data"
    },
    {
     "data": {
      "text/plain": "  0%|          | 0/2058 [00:00<?, ?it/s]",
      "application/vnd.jupyter.widget-view+json": {
       "version_major": 2,
       "version_minor": 0,
       "model_id": "4daacd762b24435189bd794ba4c88631"
      }
     },
     "metadata": {},
     "output_type": "display_data"
    },
    {
     "name": "stdout",
     "output_type": "stream",
     "text": [
      "Epoch : 79 - loss : 0.6160 - acc: 0.6901 - val_loss : 0.6343 - val_acc: 0.6670\n"
     ]
    },
    {
     "data": {
      "text/plain": "  0%|          | 0/8230 [00:00<?, ?it/s]",
      "application/vnd.jupyter.widget-view+json": {
       "version_major": 2,
       "version_minor": 0,
       "model_id": "b3caf4fddaab4bf6892e83876868938a"
      }
     },
     "metadata": {},
     "output_type": "display_data"
    },
    {
     "data": {
      "text/plain": "  0%|          | 0/2058 [00:00<?, ?it/s]",
      "application/vnd.jupyter.widget-view+json": {
       "version_major": 2,
       "version_minor": 0,
       "model_id": "d62fb4a5e5404c079fe7282f5b845f5d"
      }
     },
     "metadata": {},
     "output_type": "display_data"
    },
    {
     "name": "stdout",
     "output_type": "stream",
     "text": [
      "Epoch : 80 - loss : 0.6158 - acc: 0.6903 - val_loss : 0.6348 - val_acc: 0.6622\n"
     ]
    },
    {
     "data": {
      "text/plain": "  0%|          | 0/8230 [00:00<?, ?it/s]",
      "application/vnd.jupyter.widget-view+json": {
       "version_major": 2,
       "version_minor": 0,
       "model_id": "ad0e453982c94725ae5233fc06a6f39b"
      }
     },
     "metadata": {},
     "output_type": "display_data"
    },
    {
     "data": {
      "text/plain": "  0%|          | 0/2058 [00:00<?, ?it/s]",
      "application/vnd.jupyter.widget-view+json": {
       "version_major": 2,
       "version_minor": 0,
       "model_id": "dd7ff51081c6480f9ac2a7dc75b35a8f"
      }
     },
     "metadata": {},
     "output_type": "display_data"
    },
    {
     "name": "stdout",
     "output_type": "stream",
     "text": [
      "Epoch : 81 - loss : 0.6157 - acc: 0.6907 - val_loss : 0.6347 - val_acc: 0.6624\n"
     ]
    },
    {
     "data": {
      "text/plain": "  0%|          | 0/8230 [00:00<?, ?it/s]",
      "application/vnd.jupyter.widget-view+json": {
       "version_major": 2,
       "version_minor": 0,
       "model_id": "39e2f937ea3f4c9ba32f6a0067acd329"
      }
     },
     "metadata": {},
     "output_type": "display_data"
    },
    {
     "data": {
      "text/plain": "  0%|          | 0/2058 [00:00<?, ?it/s]",
      "application/vnd.jupyter.widget-view+json": {
       "version_major": 2,
       "version_minor": 0,
       "model_id": "5759fbc3e2064b50866e3eba5e6d5393"
      }
     },
     "metadata": {},
     "output_type": "display_data"
    },
    {
     "name": "stdout",
     "output_type": "stream",
     "text": [
      "Epoch : 82 - loss : 0.6155 - acc: 0.6903 - val_loss : 0.6347 - val_acc: 0.6647\n"
     ]
    },
    {
     "data": {
      "text/plain": "  0%|          | 0/8230 [00:00<?, ?it/s]",
      "application/vnd.jupyter.widget-view+json": {
       "version_major": 2,
       "version_minor": 0,
       "model_id": "8854d35ce71b4f7692a9d439140e448a"
      }
     },
     "metadata": {},
     "output_type": "display_data"
    },
    {
     "data": {
      "text/plain": "  0%|          | 0/2058 [00:00<?, ?it/s]",
      "application/vnd.jupyter.widget-view+json": {
       "version_major": 2,
       "version_minor": 0,
       "model_id": "168dadde9fd249c4afb04f02cf2fa5bf"
      }
     },
     "metadata": {},
     "output_type": "display_data"
    },
    {
     "name": "stdout",
     "output_type": "stream",
     "text": [
      "Epoch : 83 - loss : 0.6156 - acc: 0.6901 - val_loss : 0.6358 - val_acc: 0.6651\n"
     ]
    },
    {
     "data": {
      "text/plain": "  0%|          | 0/8230 [00:00<?, ?it/s]",
      "application/vnd.jupyter.widget-view+json": {
       "version_major": 2,
       "version_minor": 0,
       "model_id": "5a2c4b1e808f43d998ac70493f65db79"
      }
     },
     "metadata": {},
     "output_type": "display_data"
    },
    {
     "data": {
      "text/plain": "  0%|          | 0/2058 [00:00<?, ?it/s]",
      "application/vnd.jupyter.widget-view+json": {
       "version_major": 2,
       "version_minor": 0,
       "model_id": "1256e14d0cc144609f3351f4eb29c2d0"
      }
     },
     "metadata": {},
     "output_type": "display_data"
    },
    {
     "name": "stdout",
     "output_type": "stream",
     "text": [
      "Epoch : 84 - loss : 0.6153 - acc: 0.6916 - val_loss : 0.6363 - val_acc: 0.6650\n"
     ]
    },
    {
     "data": {
      "text/plain": "  0%|          | 0/8230 [00:00<?, ?it/s]",
      "application/vnd.jupyter.widget-view+json": {
       "version_major": 2,
       "version_minor": 0,
       "model_id": "304ba37c8e40452dbf2a39dc853c1bca"
      }
     },
     "metadata": {},
     "output_type": "display_data"
    },
    {
     "data": {
      "text/plain": "  0%|          | 0/2058 [00:00<?, ?it/s]",
      "application/vnd.jupyter.widget-view+json": {
       "version_major": 2,
       "version_minor": 0,
       "model_id": "158060a6a0db4fc4b4225bc9beb266c9"
      }
     },
     "metadata": {},
     "output_type": "display_data"
    },
    {
     "name": "stdout",
     "output_type": "stream",
     "text": [
      "Epoch : 85 - loss : 0.6151 - acc: 0.6913 - val_loss : 0.6351 - val_acc: 0.6648\n"
     ]
    },
    {
     "data": {
      "text/plain": "  0%|          | 0/8230 [00:00<?, ?it/s]",
      "application/vnd.jupyter.widget-view+json": {
       "version_major": 2,
       "version_minor": 0,
       "model_id": "63e33e327e4846f9bd9d2f3eb8f4ba22"
      }
     },
     "metadata": {},
     "output_type": "display_data"
    },
    {
     "data": {
      "text/plain": "  0%|          | 0/2058 [00:00<?, ?it/s]",
      "application/vnd.jupyter.widget-view+json": {
       "version_major": 2,
       "version_minor": 0,
       "model_id": "57f2649a1a15427886e265a32002aab9"
      }
     },
     "metadata": {},
     "output_type": "display_data"
    },
    {
     "name": "stdout",
     "output_type": "stream",
     "text": [
      "Epoch : 86 - loss : 0.6148 - acc: 0.6916 - val_loss : 0.6344 - val_acc: 0.6642\n"
     ]
    },
    {
     "data": {
      "text/plain": "  0%|          | 0/8230 [00:00<?, ?it/s]",
      "application/vnd.jupyter.widget-view+json": {
       "version_major": 2,
       "version_minor": 0,
       "model_id": "b8e11be224654af4a218d4efe9f9f255"
      }
     },
     "metadata": {},
     "output_type": "display_data"
    },
    {
     "data": {
      "text/plain": "  0%|          | 0/2058 [00:00<?, ?it/s]",
      "application/vnd.jupyter.widget-view+json": {
       "version_major": 2,
       "version_minor": 0,
       "model_id": "4d88c2c8c15a41a39bfbc7c7e7807f84"
      }
     },
     "metadata": {},
     "output_type": "display_data"
    },
    {
     "name": "stdout",
     "output_type": "stream",
     "text": [
      "Epoch : 87 - loss : 0.6147 - acc: 0.6921 - val_loss : 0.6355 - val_acc: 0.6657\n"
     ]
    },
    {
     "data": {
      "text/plain": "  0%|          | 0/8230 [00:00<?, ?it/s]",
      "application/vnd.jupyter.widget-view+json": {
       "version_major": 2,
       "version_minor": 0,
       "model_id": "e749ea39c885425fa227d1f23d5ea2f1"
      }
     },
     "metadata": {},
     "output_type": "display_data"
    },
    {
     "data": {
      "text/plain": "  0%|          | 0/2058 [00:00<?, ?it/s]",
      "application/vnd.jupyter.widget-view+json": {
       "version_major": 2,
       "version_minor": 0,
       "model_id": "c1c3ea3d61fa497f830fa523870b83fe"
      }
     },
     "metadata": {},
     "output_type": "display_data"
    },
    {
     "name": "stdout",
     "output_type": "stream",
     "text": [
      "Epoch : 88 - loss : 0.6147 - acc: 0.6919 - val_loss : 0.6363 - val_acc: 0.6662\n"
     ]
    },
    {
     "data": {
      "text/plain": "  0%|          | 0/8230 [00:00<?, ?it/s]",
      "application/vnd.jupyter.widget-view+json": {
       "version_major": 2,
       "version_minor": 0,
       "model_id": "317912f850b84f10b60f33aeccb82bde"
      }
     },
     "metadata": {},
     "output_type": "display_data"
    },
    {
     "data": {
      "text/plain": "  0%|          | 0/2058 [00:00<?, ?it/s]",
      "application/vnd.jupyter.widget-view+json": {
       "version_major": 2,
       "version_minor": 0,
       "model_id": "052921bca9cf42448e4f70d7c909207d"
      }
     },
     "metadata": {},
     "output_type": "display_data"
    },
    {
     "name": "stdout",
     "output_type": "stream",
     "text": [
      "Epoch : 89 - loss : 0.6146 - acc: 0.6921 - val_loss : 0.6355 - val_acc: 0.6649\n"
     ]
    },
    {
     "data": {
      "text/plain": "  0%|          | 0/8230 [00:00<?, ?it/s]",
      "application/vnd.jupyter.widget-view+json": {
       "version_major": 2,
       "version_minor": 0,
       "model_id": "af0985ca264143e8841e0b3d0df1ad17"
      }
     },
     "metadata": {},
     "output_type": "display_data"
    },
    {
     "data": {
      "text/plain": "  0%|          | 0/2058 [00:00<?, ?it/s]",
      "application/vnd.jupyter.widget-view+json": {
       "version_major": 2,
       "version_minor": 0,
       "model_id": "273f7ebbaf294cb7b1a70cd532ded26c"
      }
     },
     "metadata": {},
     "output_type": "display_data"
    },
    {
     "name": "stdout",
     "output_type": "stream",
     "text": [
      "Epoch : 90 - loss : 0.6146 - acc: 0.6920 - val_loss : 0.6353 - val_acc: 0.6662\n"
     ]
    },
    {
     "data": {
      "text/plain": "  0%|          | 0/8230 [00:00<?, ?it/s]",
      "application/vnd.jupyter.widget-view+json": {
       "version_major": 2,
       "version_minor": 0,
       "model_id": "72d745405b82448a9b7f877dd602c0b8"
      }
     },
     "metadata": {},
     "output_type": "display_data"
    },
    {
     "data": {
      "text/plain": "  0%|          | 0/2058 [00:00<?, ?it/s]",
      "application/vnd.jupyter.widget-view+json": {
       "version_major": 2,
       "version_minor": 0,
       "model_id": "5c473d2a3ce74eb28df6dd7e8bb029a0"
      }
     },
     "metadata": {},
     "output_type": "display_data"
    },
    {
     "name": "stdout",
     "output_type": "stream",
     "text": [
      "Epoch : 91 - loss : 0.6143 - acc: 0.6928 - val_loss : 0.6351 - val_acc: 0.6660\n"
     ]
    },
    {
     "data": {
      "text/plain": "  0%|          | 0/8230 [00:00<?, ?it/s]",
      "application/vnd.jupyter.widget-view+json": {
       "version_major": 2,
       "version_minor": 0,
       "model_id": "81953d8b68a446e9850b9709ec104764"
      }
     },
     "metadata": {},
     "output_type": "display_data"
    },
    {
     "data": {
      "text/plain": "  0%|          | 0/2058 [00:00<?, ?it/s]",
      "application/vnd.jupyter.widget-view+json": {
       "version_major": 2,
       "version_minor": 0,
       "model_id": "1fff1deff8dd4278a1e2ded00a4fbd95"
      }
     },
     "metadata": {},
     "output_type": "display_data"
    },
    {
     "name": "stdout",
     "output_type": "stream",
     "text": [
      "Epoch : 92 - loss : 0.6141 - acc: 0.6923 - val_loss : 0.6349 - val_acc: 0.6652\n"
     ]
    },
    {
     "data": {
      "text/plain": "  0%|          | 0/8230 [00:00<?, ?it/s]",
      "application/vnd.jupyter.widget-view+json": {
       "version_major": 2,
       "version_minor": 0,
       "model_id": "e5cff09c20004782a5bf0d86f0eb5adf"
      }
     },
     "metadata": {},
     "output_type": "display_data"
    },
    {
     "data": {
      "text/plain": "  0%|          | 0/2058 [00:00<?, ?it/s]",
      "application/vnd.jupyter.widget-view+json": {
       "version_major": 2,
       "version_minor": 0,
       "model_id": "75a993e7ae254de9a5d37f5a4c2cd572"
      }
     },
     "metadata": {},
     "output_type": "display_data"
    },
    {
     "name": "stdout",
     "output_type": "stream",
     "text": [
      "Epoch : 93 - loss : 0.6140 - acc: 0.6927 - val_loss : 0.6357 - val_acc: 0.6646\n"
     ]
    },
    {
     "data": {
      "text/plain": "  0%|          | 0/8230 [00:00<?, ?it/s]",
      "application/vnd.jupyter.widget-view+json": {
       "version_major": 2,
       "version_minor": 0,
       "model_id": "90dfb6ecb7ea4322a9e920248be5af6b"
      }
     },
     "metadata": {},
     "output_type": "display_data"
    },
    {
     "data": {
      "text/plain": "  0%|          | 0/2058 [00:00<?, ?it/s]",
      "application/vnd.jupyter.widget-view+json": {
       "version_major": 2,
       "version_minor": 0,
       "model_id": "c87f9178c38f43f7a27388c184250f21"
      }
     },
     "metadata": {},
     "output_type": "display_data"
    },
    {
     "name": "stdout",
     "output_type": "stream",
     "text": [
      "Epoch : 94 - loss : 0.6141 - acc: 0.6926 - val_loss : 0.6354 - val_acc: 0.6647\n"
     ]
    },
    {
     "data": {
      "text/plain": "  0%|          | 0/8230 [00:00<?, ?it/s]",
      "application/vnd.jupyter.widget-view+json": {
       "version_major": 2,
       "version_minor": 0,
       "model_id": "99f51db2aad34be28472116eeb2ea118"
      }
     },
     "metadata": {},
     "output_type": "display_data"
    },
    {
     "data": {
      "text/plain": "  0%|          | 0/2058 [00:00<?, ?it/s]",
      "application/vnd.jupyter.widget-view+json": {
       "version_major": 2,
       "version_minor": 0,
       "model_id": "06b9a7a75ad24ff59e2addcd6045d7a8"
      }
     },
     "metadata": {},
     "output_type": "display_data"
    },
    {
     "name": "stdout",
     "output_type": "stream",
     "text": [
      "Epoch : 95 - loss : 0.6136 - acc: 0.6933 - val_loss : 0.6359 - val_acc: 0.6637\n"
     ]
    },
    {
     "data": {
      "text/plain": "  0%|          | 0/8230 [00:00<?, ?it/s]",
      "application/vnd.jupyter.widget-view+json": {
       "version_major": 2,
       "version_minor": 0,
       "model_id": "0a6d1f208f5649e98c78ffc917f340f1"
      }
     },
     "metadata": {},
     "output_type": "display_data"
    },
    {
     "data": {
      "text/plain": "  0%|          | 0/2058 [00:00<?, ?it/s]",
      "application/vnd.jupyter.widget-view+json": {
       "version_major": 2,
       "version_minor": 0,
       "model_id": "26f9fedc276c4aabb612a2ed8fe34112"
      }
     },
     "metadata": {},
     "output_type": "display_data"
    },
    {
     "name": "stdout",
     "output_type": "stream",
     "text": [
      "Epoch : 96 - loss : 0.6138 - acc: 0.6933 - val_loss : 0.6351 - val_acc: 0.6651\n"
     ]
    },
    {
     "data": {
      "text/plain": "  0%|          | 0/8230 [00:00<?, ?it/s]",
      "application/vnd.jupyter.widget-view+json": {
       "version_major": 2,
       "version_minor": 0,
       "model_id": "4d21de51af4d45fcbb1754cdf5e9107c"
      }
     },
     "metadata": {},
     "output_type": "display_data"
    },
    {
     "data": {
      "text/plain": "  0%|          | 0/2058 [00:00<?, ?it/s]",
      "application/vnd.jupyter.widget-view+json": {
       "version_major": 2,
       "version_minor": 0,
       "model_id": "18393b707d4342ff8051e0d37db0edc2"
      }
     },
     "metadata": {},
     "output_type": "display_data"
    },
    {
     "name": "stdout",
     "output_type": "stream",
     "text": [
      "Epoch : 97 - loss : 0.6136 - acc: 0.6939 - val_loss : 0.6356 - val_acc: 0.6634\n"
     ]
    },
    {
     "data": {
      "text/plain": "  0%|          | 0/8230 [00:00<?, ?it/s]",
      "application/vnd.jupyter.widget-view+json": {
       "version_major": 2,
       "version_minor": 0,
       "model_id": "00c97b59d8a34ccf9510ec8afad5f735"
      }
     },
     "metadata": {},
     "output_type": "display_data"
    },
    {
     "data": {
      "text/plain": "  0%|          | 0/2058 [00:00<?, ?it/s]",
      "application/vnd.jupyter.widget-view+json": {
       "version_major": 2,
       "version_minor": 0,
       "model_id": "b757d9259c45471893e6d1fafe8ac125"
      }
     },
     "metadata": {},
     "output_type": "display_data"
    },
    {
     "name": "stdout",
     "output_type": "stream",
     "text": [
      "Epoch : 98 - loss : 0.6132 - acc: 0.6940 - val_loss : 0.6346 - val_acc: 0.6643\n"
     ]
    },
    {
     "data": {
      "text/plain": "  0%|          | 0/8230 [00:00<?, ?it/s]",
      "application/vnd.jupyter.widget-view+json": {
       "version_major": 2,
       "version_minor": 0,
       "model_id": "d51608a6fd5e4aa6add0d1d56ca1b9df"
      }
     },
     "metadata": {},
     "output_type": "display_data"
    },
    {
     "data": {
      "text/plain": "  0%|          | 0/2058 [00:00<?, ?it/s]",
      "application/vnd.jupyter.widget-view+json": {
       "version_major": 2,
       "version_minor": 0,
       "model_id": "e7552d860fe047f39301e09b82cf300f"
      }
     },
     "metadata": {},
     "output_type": "display_data"
    },
    {
     "name": "stdout",
     "output_type": "stream",
     "text": [
      "Epoch : 99 - loss : 0.6133 - acc: 0.6937 - val_loss : 0.6353 - val_acc: 0.6649\n"
     ]
    },
    {
     "data": {
      "text/plain": "  0%|          | 0/8230 [00:00<?, ?it/s]",
      "application/vnd.jupyter.widget-view+json": {
       "version_major": 2,
       "version_minor": 0,
       "model_id": "47dd5ddc5ace46ea80304e0af4f76056"
      }
     },
     "metadata": {},
     "output_type": "display_data"
    },
    {
     "data": {
      "text/plain": "  0%|          | 0/2058 [00:00<?, ?it/s]",
      "application/vnd.jupyter.widget-view+json": {
       "version_major": 2,
       "version_minor": 0,
       "model_id": "db76049d865349cfbe6c35ef24fb0a47"
      }
     },
     "metadata": {},
     "output_type": "display_data"
    },
    {
     "name": "stdout",
     "output_type": "stream",
     "text": [
      "Epoch : 100 - loss : 0.6130 - acc: 0.6941 - val_loss : 0.6357 - val_acc: 0.6657\n"
     ]
    },
    {
     "data": {
      "text/plain": "  0%|          | 0/8230 [00:00<?, ?it/s]",
      "application/vnd.jupyter.widget-view+json": {
       "version_major": 2,
       "version_minor": 0,
       "model_id": "6178a3ccd82b4b51a0b170b3284cd21c"
      }
     },
     "metadata": {},
     "output_type": "display_data"
    },
    {
     "data": {
      "text/plain": "  0%|          | 0/2058 [00:00<?, ?it/s]",
      "application/vnd.jupyter.widget-view+json": {
       "version_major": 2,
       "version_minor": 0,
       "model_id": "ddd7bb10e80e40e8b934f89653750ddd"
      }
     },
     "metadata": {},
     "output_type": "display_data"
    },
    {
     "name": "stdout",
     "output_type": "stream",
     "text": [
      "Epoch : 101 - loss : 0.6130 - acc: 0.6944 - val_loss : 0.6356 - val_acc: 0.6591\n"
     ]
    },
    {
     "data": {
      "text/plain": "  0%|          | 0/8230 [00:00<?, ?it/s]",
      "application/vnd.jupyter.widget-view+json": {
       "version_major": 2,
       "version_minor": 0,
       "model_id": "c171bb394df54a60b6f73d8be2f661d9"
      }
     },
     "metadata": {},
     "output_type": "display_data"
    },
    {
     "data": {
      "text/plain": "  0%|          | 0/2058 [00:00<?, ?it/s]",
      "application/vnd.jupyter.widget-view+json": {
       "version_major": 2,
       "version_minor": 0,
       "model_id": "27e736dad69040c18228bac97354c93c"
      }
     },
     "metadata": {},
     "output_type": "display_data"
    },
    {
     "name": "stdout",
     "output_type": "stream",
     "text": [
      "Epoch : 102 - loss : 0.6131 - acc: 0.6946 - val_loss : 0.6352 - val_acc: 0.6649\n"
     ]
    },
    {
     "data": {
      "text/plain": "  0%|          | 0/8230 [00:00<?, ?it/s]",
      "application/vnd.jupyter.widget-view+json": {
       "version_major": 2,
       "version_minor": 0,
       "model_id": "3997c0332cc44c95a2a2972dbabf0ff8"
      }
     },
     "metadata": {},
     "output_type": "display_data"
    },
    {
     "data": {
      "text/plain": "  0%|          | 0/2058 [00:00<?, ?it/s]",
      "application/vnd.jupyter.widget-view+json": {
       "version_major": 2,
       "version_minor": 0,
       "model_id": "e83ae6c810864562bfd734c098c13a91"
      }
     },
     "metadata": {},
     "output_type": "display_data"
    },
    {
     "name": "stdout",
     "output_type": "stream",
     "text": [
      "Epoch : 103 - loss : 0.6129 - acc: 0.6941 - val_loss : 0.6363 - val_acc: 0.6651\n"
     ]
    },
    {
     "data": {
      "text/plain": "  0%|          | 0/8230 [00:00<?, ?it/s]",
      "application/vnd.jupyter.widget-view+json": {
       "version_major": 2,
       "version_minor": 0,
       "model_id": "7ddf443f94aa426ebd7e7efdd8282cea"
      }
     },
     "metadata": {},
     "output_type": "display_data"
    },
    {
     "data": {
      "text/plain": "  0%|          | 0/2058 [00:00<?, ?it/s]",
      "application/vnd.jupyter.widget-view+json": {
       "version_major": 2,
       "version_minor": 0,
       "model_id": "ca725480a9fe426aa7e95db30c5e3797"
      }
     },
     "metadata": {},
     "output_type": "display_data"
    },
    {
     "name": "stdout",
     "output_type": "stream",
     "text": [
      "Epoch : 104 - loss : 0.6126 - acc: 0.6940 - val_loss : 0.6367 - val_acc: 0.6645\n"
     ]
    },
    {
     "data": {
      "text/plain": "  0%|          | 0/8230 [00:00<?, ?it/s]",
      "application/vnd.jupyter.widget-view+json": {
       "version_major": 2,
       "version_minor": 0,
       "model_id": "dfeeb1f41cb54d9ebea7c7e9a636095b"
      }
     },
     "metadata": {},
     "output_type": "display_data"
    },
    {
     "data": {
      "text/plain": "  0%|          | 0/2058 [00:00<?, ?it/s]",
      "application/vnd.jupyter.widget-view+json": {
       "version_major": 2,
       "version_minor": 0,
       "model_id": "e14f97fdee424f44b585ebc09b7203e0"
      }
     },
     "metadata": {},
     "output_type": "display_data"
    },
    {
     "name": "stdout",
     "output_type": "stream",
     "text": [
      "Epoch : 105 - loss : 0.6127 - acc: 0.6945 - val_loss : 0.6358 - val_acc: 0.6649\n"
     ]
    },
    {
     "data": {
      "text/plain": "  0%|          | 0/8230 [00:00<?, ?it/s]",
      "application/vnd.jupyter.widget-view+json": {
       "version_major": 2,
       "version_minor": 0,
       "model_id": "249050edf10c4e39b08ae51f789989b1"
      }
     },
     "metadata": {},
     "output_type": "display_data"
    },
    {
     "data": {
      "text/plain": "  0%|          | 0/2058 [00:00<?, ?it/s]",
      "application/vnd.jupyter.widget-view+json": {
       "version_major": 2,
       "version_minor": 0,
       "model_id": "3265d87522174e3891c0b42a0da8d854"
      }
     },
     "metadata": {},
     "output_type": "display_data"
    },
    {
     "name": "stdout",
     "output_type": "stream",
     "text": [
      "Epoch : 106 - loss : 0.6126 - acc: 0.6940 - val_loss : 0.6352 - val_acc: 0.6603\n"
     ]
    },
    {
     "data": {
      "text/plain": "  0%|          | 0/8230 [00:00<?, ?it/s]",
      "application/vnd.jupyter.widget-view+json": {
       "version_major": 2,
       "version_minor": 0,
       "model_id": "a0813dd2bb9a4f1d968dd37502f6add5"
      }
     },
     "metadata": {},
     "output_type": "display_data"
    },
    {
     "data": {
      "text/plain": "  0%|          | 0/2058 [00:00<?, ?it/s]",
      "application/vnd.jupyter.widget-view+json": {
       "version_major": 2,
       "version_minor": 0,
       "model_id": "1270ff109361499093da7f6fc92b4ad0"
      }
     },
     "metadata": {},
     "output_type": "display_data"
    },
    {
     "name": "stdout",
     "output_type": "stream",
     "text": [
      "Epoch : 107 - loss : 0.6124 - acc: 0.6955 - val_loss : 0.6359 - val_acc: 0.6630\n"
     ]
    },
    {
     "data": {
      "text/plain": "  0%|          | 0/8230 [00:00<?, ?it/s]",
      "application/vnd.jupyter.widget-view+json": {
       "version_major": 2,
       "version_minor": 0,
       "model_id": "1c8c37237a8149678e70f40ebbd485cc"
      }
     },
     "metadata": {},
     "output_type": "display_data"
    },
    {
     "data": {
      "text/plain": "  0%|          | 0/2058 [00:00<?, ?it/s]",
      "application/vnd.jupyter.widget-view+json": {
       "version_major": 2,
       "version_minor": 0,
       "model_id": "252ed21ea3974e5299cb0a29f8242958"
      }
     },
     "metadata": {},
     "output_type": "display_data"
    },
    {
     "name": "stdout",
     "output_type": "stream",
     "text": [
      "Epoch : 108 - loss : 0.6123 - acc: 0.6956 - val_loss : 0.6360 - val_acc: 0.6655\n"
     ]
    },
    {
     "data": {
      "text/plain": "  0%|          | 0/8230 [00:00<?, ?it/s]",
      "application/vnd.jupyter.widget-view+json": {
       "version_major": 2,
       "version_minor": 0,
       "model_id": "f122bdfb0f124e6784e0a8bd0fcd1291"
      }
     },
     "metadata": {},
     "output_type": "display_data"
    },
    {
     "data": {
      "text/plain": "  0%|          | 0/2058 [00:00<?, ?it/s]",
      "application/vnd.jupyter.widget-view+json": {
       "version_major": 2,
       "version_minor": 0,
       "model_id": "94feb16bc1464c41960f9d17f3f1aa5a"
      }
     },
     "metadata": {},
     "output_type": "display_data"
    },
    {
     "name": "stdout",
     "output_type": "stream",
     "text": [
      "Epoch : 109 - loss : 0.6122 - acc: 0.6951 - val_loss : 0.6355 - val_acc: 0.6639\n"
     ]
    },
    {
     "data": {
      "text/plain": "  0%|          | 0/8230 [00:00<?, ?it/s]",
      "application/vnd.jupyter.widget-view+json": {
       "version_major": 2,
       "version_minor": 0,
       "model_id": "91b011d17f8d4099bdb5b5dc856e2ab7"
      }
     },
     "metadata": {},
     "output_type": "display_data"
    },
    {
     "data": {
      "text/plain": "  0%|          | 0/2058 [00:00<?, ?it/s]",
      "application/vnd.jupyter.widget-view+json": {
       "version_major": 2,
       "version_minor": 0,
       "model_id": "33e047af7fb541eda5a9cf7fd8fb1ebb"
      }
     },
     "metadata": {},
     "output_type": "display_data"
    },
    {
     "name": "stdout",
     "output_type": "stream",
     "text": [
      "Epoch : 110 - loss : 0.6120 - acc: 0.6959 - val_loss : 0.6350 - val_acc: 0.6656\n"
     ]
    },
    {
     "data": {
      "text/plain": "  0%|          | 0/8230 [00:00<?, ?it/s]",
      "application/vnd.jupyter.widget-view+json": {
       "version_major": 2,
       "version_minor": 0,
       "model_id": "f4aca66e1a46474ebfd491abecf2e2e4"
      }
     },
     "metadata": {},
     "output_type": "display_data"
    },
    {
     "data": {
      "text/plain": "  0%|          | 0/2058 [00:00<?, ?it/s]",
      "application/vnd.jupyter.widget-view+json": {
       "version_major": 2,
       "version_minor": 0,
       "model_id": "fa89ec00a1424c0a8137f0d697b71936"
      }
     },
     "metadata": {},
     "output_type": "display_data"
    },
    {
     "name": "stdout",
     "output_type": "stream",
     "text": [
      "Epoch : 111 - loss : 0.6120 - acc: 0.6957 - val_loss : 0.6348 - val_acc: 0.6660\n"
     ]
    },
    {
     "data": {
      "text/plain": "  0%|          | 0/8230 [00:00<?, ?it/s]",
      "application/vnd.jupyter.widget-view+json": {
       "version_major": 2,
       "version_minor": 0,
       "model_id": "1035269a2a814f15b871b112e749f482"
      }
     },
     "metadata": {},
     "output_type": "display_data"
    },
    {
     "data": {
      "text/plain": "  0%|          | 0/2058 [00:00<?, ?it/s]",
      "application/vnd.jupyter.widget-view+json": {
       "version_major": 2,
       "version_minor": 0,
       "model_id": "7a31826fccdb48048f452c2d18794c07"
      }
     },
     "metadata": {},
     "output_type": "display_data"
    },
    {
     "name": "stdout",
     "output_type": "stream",
     "text": [
      "Epoch : 112 - loss : 0.6119 - acc: 0.6957 - val_loss : 0.6359 - val_acc: 0.6662\n"
     ]
    },
    {
     "data": {
      "text/plain": "  0%|          | 0/8230 [00:00<?, ?it/s]",
      "application/vnd.jupyter.widget-view+json": {
       "version_major": 2,
       "version_minor": 0,
       "model_id": "f277e4934f4b4118b0d68ff89a8ce9c2"
      }
     },
     "metadata": {},
     "output_type": "display_data"
    },
    {
     "data": {
      "text/plain": "  0%|          | 0/2058 [00:00<?, ?it/s]",
      "application/vnd.jupyter.widget-view+json": {
       "version_major": 2,
       "version_minor": 0,
       "model_id": "392ee8f098654e2ab13461d6ac8cd31f"
      }
     },
     "metadata": {},
     "output_type": "display_data"
    },
    {
     "name": "stdout",
     "output_type": "stream",
     "text": [
      "Epoch : 113 - loss : 0.6119 - acc: 0.6956 - val_loss : 0.6362 - val_acc: 0.6642\n"
     ]
    },
    {
     "data": {
      "text/plain": "  0%|          | 0/8230 [00:00<?, ?it/s]",
      "application/vnd.jupyter.widget-view+json": {
       "version_major": 2,
       "version_minor": 0,
       "model_id": "7bd1670590f044a69d79ead658948683"
      }
     },
     "metadata": {},
     "output_type": "display_data"
    },
    {
     "data": {
      "text/plain": "  0%|          | 0/2058 [00:00<?, ?it/s]",
      "application/vnd.jupyter.widget-view+json": {
       "version_major": 2,
       "version_minor": 0,
       "model_id": "eb6755fe3aef447da94221e206002f79"
      }
     },
     "metadata": {},
     "output_type": "display_data"
    },
    {
     "name": "stdout",
     "output_type": "stream",
     "text": [
      "Epoch : 114 - loss : 0.6118 - acc: 0.6965 - val_loss : 0.6353 - val_acc: 0.6602\n"
     ]
    },
    {
     "data": {
      "text/plain": "  0%|          | 0/8230 [00:00<?, ?it/s]",
      "application/vnd.jupyter.widget-view+json": {
       "version_major": 2,
       "version_minor": 0,
       "model_id": "02311be92b784768ab10dcb9acd132fc"
      }
     },
     "metadata": {},
     "output_type": "display_data"
    },
    {
     "data": {
      "text/plain": "  0%|          | 0/2058 [00:00<?, ?it/s]",
      "application/vnd.jupyter.widget-view+json": {
       "version_major": 2,
       "version_minor": 0,
       "model_id": "9a54f9e0568146cda2341811202162d0"
      }
     },
     "metadata": {},
     "output_type": "display_data"
    },
    {
     "name": "stdout",
     "output_type": "stream",
     "text": [
      "Epoch : 115 - loss : 0.6117 - acc: 0.6969 - val_loss : 0.6363 - val_acc: 0.6646\n"
     ]
    },
    {
     "data": {
      "text/plain": "  0%|          | 0/8230 [00:00<?, ?it/s]",
      "application/vnd.jupyter.widget-view+json": {
       "version_major": 2,
       "version_minor": 0,
       "model_id": "b7399f7d7a3b4130930cd050511876db"
      }
     },
     "metadata": {},
     "output_type": "display_data"
    },
    {
     "data": {
      "text/plain": "  0%|          | 0/2058 [00:00<?, ?it/s]",
      "application/vnd.jupyter.widget-view+json": {
       "version_major": 2,
       "version_minor": 0,
       "model_id": "99743a377eb547c9ae7b01056be131ca"
      }
     },
     "metadata": {},
     "output_type": "display_data"
    },
    {
     "name": "stdout",
     "output_type": "stream",
     "text": [
      "Epoch : 116 - loss : 0.6116 - acc: 0.6973 - val_loss : 0.6362 - val_acc: 0.6660\n"
     ]
    },
    {
     "data": {
      "text/plain": "  0%|          | 0/8230 [00:00<?, ?it/s]",
      "application/vnd.jupyter.widget-view+json": {
       "version_major": 2,
       "version_minor": 0,
       "model_id": "74f63c25ddca411c800a7808a02a250c"
      }
     },
     "metadata": {},
     "output_type": "display_data"
    },
    {
     "data": {
      "text/plain": "  0%|          | 0/2058 [00:00<?, ?it/s]",
      "application/vnd.jupyter.widget-view+json": {
       "version_major": 2,
       "version_minor": 0,
       "model_id": "63a768f86fcc493f9e1be5d3f7354371"
      }
     },
     "metadata": {},
     "output_type": "display_data"
    },
    {
     "name": "stdout",
     "output_type": "stream",
     "text": [
      "Epoch : 117 - loss : 0.6116 - acc: 0.6969 - val_loss : 0.6358 - val_acc: 0.6645\n"
     ]
    },
    {
     "data": {
      "text/plain": "  0%|          | 0/8230 [00:00<?, ?it/s]",
      "application/vnd.jupyter.widget-view+json": {
       "version_major": 2,
       "version_minor": 0,
       "model_id": "cda85f081ded47b78d90dd3b81e2f23f"
      }
     },
     "metadata": {},
     "output_type": "display_data"
    },
    {
     "data": {
      "text/plain": "  0%|          | 0/2058 [00:00<?, ?it/s]",
      "application/vnd.jupyter.widget-view+json": {
       "version_major": 2,
       "version_minor": 0,
       "model_id": "79c5ca122df0490598147afff53c3be4"
      }
     },
     "metadata": {},
     "output_type": "display_data"
    },
    {
     "name": "stdout",
     "output_type": "stream",
     "text": [
      "Epoch : 118 - loss : 0.6112 - acc: 0.6965 - val_loss : 0.6355 - val_acc: 0.6626\n"
     ]
    },
    {
     "data": {
      "text/plain": "  0%|          | 0/8230 [00:00<?, ?it/s]",
      "application/vnd.jupyter.widget-view+json": {
       "version_major": 2,
       "version_minor": 0,
       "model_id": "5916359c1db040978cb299f3db104ac2"
      }
     },
     "metadata": {},
     "output_type": "display_data"
    },
    {
     "data": {
      "text/plain": "  0%|          | 0/2058 [00:00<?, ?it/s]",
      "application/vnd.jupyter.widget-view+json": {
       "version_major": 2,
       "version_minor": 0,
       "model_id": "8c313b09b84d4e85a40513b760a6ab73"
      }
     },
     "metadata": {},
     "output_type": "display_data"
    },
    {
     "name": "stdout",
     "output_type": "stream",
     "text": [
      "Epoch : 119 - loss : 0.6112 - acc: 0.6972 - val_loss : 0.6351 - val_acc: 0.6659\n"
     ]
    },
    {
     "data": {
      "text/plain": "  0%|          | 0/8230 [00:00<?, ?it/s]",
      "application/vnd.jupyter.widget-view+json": {
       "version_major": 2,
       "version_minor": 0,
       "model_id": "d99a6dabd7a14a2c96b04c0a3f4e1655"
      }
     },
     "metadata": {},
     "output_type": "display_data"
    },
    {
     "data": {
      "text/plain": "  0%|          | 0/2058 [00:00<?, ?it/s]",
      "application/vnd.jupyter.widget-view+json": {
       "version_major": 2,
       "version_minor": 0,
       "model_id": "5c7151a9387c413a89f902afe80f1332"
      }
     },
     "metadata": {},
     "output_type": "display_data"
    },
    {
     "name": "stdout",
     "output_type": "stream",
     "text": [
      "Epoch : 120 - loss : 0.6113 - acc: 0.6971 - val_loss : 0.6352 - val_acc: 0.6672\n"
     ]
    }
   ],
   "source": [
    "for epoch in range(nepochs):\n",
    "    epoch_loss = 0\n",
    "    epoch_accuracy = 0\n",
    "    # Set model to training mode\n",
    "    lstm_classifier.train()\n",
    "    steps = 0\n",
    "    \n",
    "    # Iterate through training data loader\n",
    "    for label, text in tqdm(train_loader):\n",
    "        label = label.to(device)\n",
    "        text = text.to(device)\n",
    "        \n",
    "        output = lstm_classifier(text)\n",
    "        loss = loss_fn(output, label)\n",
    "            \n",
    "        # Backpropagation and optimization\n",
    "        optimizer.zero_grad()\n",
    "        loss.backward()\n",
    "        optimizer.step()\n",
    "        \n",
    "        # Accuracy Calculation\n",
    "        probs = F.sigmoid(output)  # Convert to probabilities\n",
    "        predicted_class = (probs > 0.5).float()  # Apply threshold (adjust as needed)\n",
    "        target_class = (label > 0.5).float()  # Extract the \"stronger\" class from soft label\n",
    "        acc = (predicted_class == target_class).float().mean()\n",
    "        \n",
    "        epoch_accuracy += acc / len(train_loader)\n",
    "        epoch_loss += loss / len(train_loader)\n",
    "    \n",
    "    # Set model to evaluation mode\n",
    "    lstm_classifier.eval()\n",
    "    \n",
    "    # Iterate through test data loader\n",
    "    with torch.no_grad():\n",
    "        epoch_val_accuracy = 0\n",
    "        epoch_val_loss = 0\n",
    "        for label, text in tqdm(valid_loader):\n",
    "            label = label.to(device)\n",
    "            text = text.to(device)\n",
    "\n",
    "            val_output = lstm_classifier(text)\n",
    "            val_loss = loss_fn(val_output, label)\n",
    "            \n",
    "            # Accuracy Calculation\n",
    "            probs = F.sigmoid(val_output)  # Convert to probabilities\n",
    "            predicted_class = (probs > 0.5).float()  # Apply threshold (adjust as needed)\n",
    "            target_class = (label > 0.5).float()  # Extract the \"stronger\" class from soft label\n",
    "            acc = (predicted_class == target_class).float().mean()\n",
    "            \n",
    "            epoch_val_accuracy += acc / len(valid_loader)\n",
    "            epoch_val_loss += val_loss / len(valid_loader)\n",
    "            \n",
    "    print(\n",
    "        f\"Epoch : {epoch+1} - loss : {epoch_loss:.4f} - acc: {epoch_accuracy:.4f} - val_loss : {epoch_val_loss:.4f} - val_acc: {epoch_val_accuracy:.4f}\\n\"\n",
    "    )\n",
    "            "
   ]
  },
  {
   "cell_type": "code",
   "outputs": [],
   "source": [
    "torch.save(lstm_classifier, 'model3-1.pt')"
   ],
   "metadata": {
    "collapsed": false,
    "ExecuteTime": {
     "end_time": "2024-06-23T04:48:57.443453Z",
     "start_time": "2024-06-23T04:48:57.421147Z"
    }
   },
   "id": "98a50478158bbfa3",
   "execution_count": 54
  },
  {
   "cell_type": "code",
   "outputs": [
    {
     "name": "stdout",
     "output_type": "stream",
     "text": [
      "Headers(Event='Wch U10', Site='Cannes', Date='1997.??.??', Round='2', White='Nakamura, Hikaru', Black='El Mikati, Mohamad', Result='1-0', WhiteElo='', BlackElo='', ECO='C11')\n",
      "tensor([[-0.0146,  0.0146]], device='cuda:0') [[0.4963506 0.5036495]]\n",
      "tensor([[-0.0114,  0.0114]], device='cuda:0') [[0.49714217 0.5028578 ]]\n",
      "tensor([[-0.0166,  0.0166]], device='cuda:0') [[0.49585295 0.50414705]]\n",
      "tensor([[-0.0271,  0.0271]], device='cuda:0') [[0.49323434 0.5067656 ]]\n",
      "tensor([[-0.0763,  0.0763]], device='cuda:0') [[0.48092866 0.51907134]]\n",
      "tensor([[-0.0484,  0.0484]], device='cuda:0') [[0.48790276 0.5120972 ]]\n",
      "tensor([[-0.0428,  0.0428]], device='cuda:0') [[0.4892895 0.5107105]]\n",
      "tensor([[-0.0374,  0.0374]], device='cuda:0') [[0.49065402 0.509346  ]]\n",
      "tensor([[-0.0267,  0.0267]], device='cuda:0') [[0.49333423 0.5066657 ]]\n",
      "tensor([[-0.0072,  0.0072]], device='cuda:0') [[0.4982078  0.50179213]]\n",
      "tensor([[-0.0052,  0.0052]], device='cuda:0') [[0.4986938  0.50130624]]\n",
      "tensor([[-0.0014,  0.0014]], device='cuda:0') [[0.4996518 0.5003482]]\n",
      "tensor([[ 0.0021, -0.0021]], device='cuda:0') [[0.50051486 0.49948514]]\n",
      "tensor([[ 0.0203, -0.0203]], device='cuda:0') [[0.5050769  0.49492308]]\n",
      "tensor([[-0.0249,  0.0249]], device='cuda:0') [[0.49376807 0.50623196]]\n",
      "tensor([[-0.0305,  0.0305]], device='cuda:0') [[0.4923826 0.5076174]]\n",
      "tensor([[-0.0644,  0.0644]], device='cuda:0') [[0.48389855 0.5161014 ]]\n",
      "tensor([[-0.0176,  0.0176]], device='cuda:0') [[0.4956107 0.5043893]]\n",
      "tensor([[ 0.0051, -0.0051]], device='cuda:0') [[0.50127167 0.49872836]]\n",
      "tensor([[-0.0720,  0.0720]], device='cuda:0') [[0.4820089 0.5179911]]\n",
      "tensor([[-0.0705,  0.0705]], device='cuda:0') [[0.48239213 0.51760787]]\n",
      "tensor([[-0.2122,  0.2122]], device='cuda:0') [[0.4471458 0.5528542]]\n",
      "tensor([[-0.4220,  0.4220]], device='cuda:0') [[0.3960446 0.6039554]]\n",
      "tensor([[-0.1828,  0.1828]], device='cuda:0') [[0.45442927 0.54557073]]\n",
      "tensor([[-0.3921,  0.3921]], device='cuda:0') [[0.40321162 0.5967884 ]]\n",
      "tensor([[-0.3711,  0.3711]], device='cuda:0') [[0.4082856  0.59171444]]\n",
      "tensor([[ 0.0418, -0.0418]], device='cuda:0') [[0.5104402  0.48955986]]\n",
      "tensor([[-0.0405,  0.0405]], device='cuda:0') [[0.48986506 0.51013494]]\n",
      "tensor([[-0.1308,  0.1308]], device='cuda:0') [[0.46735328 0.5326468 ]]\n",
      "tensor([[ 0.1700, -0.1700]], device='cuda:0') [[0.5424094 0.4575906]]\n",
      "tensor([[ 0.0867, -0.0867]], device='cuda:0') [[0.5216623  0.47833768]]\n",
      "tensor([[ 0.1969, -0.1969]], device='cuda:0') [[0.54905593 0.4509441 ]]\n",
      "tensor([[-0.2297,  0.2297]], device='cuda:0') [[0.4428245 0.5571755]]\n",
      "tensor([[-0.0857,  0.0857]], device='cuda:0') [[0.47858694 0.5214131 ]]\n",
      "tensor([[-0.1386,  0.1386]], device='cuda:0') [[0.46539485 0.53460515]]\n",
      "tensor([[-0.0475,  0.0475]], device='cuda:0') [[0.4881386 0.5118614]]\n",
      "tensor([[-0.0660,  0.0660]], device='cuda:0') [[0.4835027 0.5164974]]\n",
      "tensor([[ 0.2243, -0.2243]], device='cuda:0') [[0.55584073 0.44415927]]\n",
      "tensor([[-0.6547,  0.6547]], device='cuda:0') [[0.34193963 0.65806043]]\n",
      "tensor([[-0.4524,  0.4524]], device='cuda:0') [[0.38877904 0.61122096]]\n",
      "tensor([[-0.7827,  0.7827]], device='cuda:0') [[0.31373203 0.68626803]]\n",
      "tensor([[-0.4396,  0.4396]], device='cuda:0') [[0.39183906 0.6081609 ]]\n",
      "tensor([[-0.6552,  0.6552]], device='cuda:0') [[0.34182695 0.6581731 ]]\n",
      "tensor([[-0.5472,  0.5472]], device='cuda:0') [[0.36650345 0.6334965 ]]\n",
      "tensor([[-0.2808,  0.2808]], device='cuda:0') [[0.43026248 0.56973755]]\n",
      "tensor([[-0.2567,  0.2567]], device='cuda:0') [[0.43617567 0.5638243 ]]\n",
      "tensor([[ 0.4845, -0.4845]], device='cuda:0') [[0.61880934 0.38119063]]\n",
      "tensor([[ 0.3089, -0.3089]], device='cuda:0') [[0.5766218  0.42337823]]\n",
      "tensor([[-0.6971,  0.6971]], device='cuda:0') [[0.33245316 0.6675468 ]]\n",
      "tensor([[-0.7626,  0.7626]], device='cuda:0') [[0.31807682 0.6819232 ]]\n",
      "tensor([[-0.4757,  0.4757]], device='cuda:0') [[0.38327968 0.6167203 ]]\n",
      "tensor([[-0.4560,  0.4560]], device='cuda:0') [[0.38792726 0.6120727 ]]\n",
      "tensor([[-0.9571,  0.9571]], device='cuda:0') [[0.2774516 0.7225484]]\n",
      "tensor([[-0.4846,  0.4846]], device='cuda:0') [[0.38116917 0.6188308 ]]\n",
      "tensor([[-0.4219,  0.4219]], device='cuda:0') [[0.39606053 0.60393953]]\n",
      "tensor([[ 0.3082, -0.3082]], device='cuda:0') [[0.5764446 0.4235554]]\n",
      "tensor([[-0.4905,  0.4905]], device='cuda:0') [[0.37977642 0.6202236 ]]\n",
      "tensor([[-0.9533,  0.9533]], device='cuda:0') [[0.27821207 0.7217879 ]]\n",
      "tensor([[-0.7662,  0.7662]], device='cuda:0') [[0.3172948  0.68270516]]\n",
      "tensor([[-0.9164,  0.9164]], device='cuda:0') [[0.28569677 0.71430326]]\n",
      "tensor([[-1.6153,  1.6153]], device='cuda:0') [[0.16585839 0.8341417 ]]\n",
      "tensor([[-0.7079,  0.7079]], device='cuda:0') [[0.33005208 0.669948  ]]\n",
      "tensor([[ 0.2706, -0.2706]], device='cuda:0') [[0.56724197 0.432758  ]]\n",
      "tensor([[ 0.4872, -0.4872]], device='cuda:0') [[0.6194491 0.3805509]]\n",
      "tensor([[-0.4986,  0.4986]], device='cuda:0') [[0.3778645  0.62213546]]\n",
      "tensor([[ 0.8185, -0.8185]], device='cuda:0') [[0.6939161  0.30608395]]\n",
      "tensor([[-1.2870,  1.2870]], device='cuda:0') [[0.21636933 0.78363067]]\n",
      "tensor([[-0.5062,  0.5062]], device='cuda:0') [[0.37607586 0.62392414]]\n",
      "tensor([[-0.4466,  0.4466]], device='cuda:0') [[0.39016345 0.6098366 ]]\n",
      "tensor([[-0.6962,  0.6962]], device='cuda:0') [[0.33266035 0.6673396 ]]\n",
      "tensor([[-1.3339,  1.3339]], device='cuda:0') [[0.20852192 0.7914781 ]]\n",
      "tensor([[-0.2490,  0.2490]], device='cuda:0') [[0.4380657  0.56193423]]\n",
      "tensor([[-1.8452,  1.8452]], device='cuda:0') [[0.1364355  0.86356455]]\n",
      "tensor([[-1.5290,  1.5290]], device='cuda:0') [[0.17814732 0.82185274]]\n",
      "tensor([[-1.0396,  1.0396]], device='cuda:0') [[0.2612255  0.73877454]]\n",
      "tensor([[ 0.4117, -0.4117]], device='cuda:0') [[0.6015035 0.3984965]]\n",
      "tensor([[-1.2174,  1.2174]], device='cuda:0') [[0.22839494 0.7716051 ]]\n",
      "tensor([[ 0.4388, -0.4388]], device='cuda:0') [[0.6079827 0.3920173]]\n",
      "tensor([[-1.1680,  1.1680]], device='cuda:0') [[0.23721826 0.76278174]]\n",
      "tensor([[-2.1257,  2.1257]], device='cuda:0') [[0.10662079 0.89337915]]\n",
      "tensor([[-2.0141,  2.0141]], device='cuda:0') [[0.11772761 0.8822724 ]]\n",
      "tensor([[-1.7721,  1.7721]], device='cuda:0') [[0.14528598 0.85471404]]\n",
      "tensor([[-2.2511,  2.2511]], device='cuda:0') [[0.09525639 0.9047436 ]]\n",
      "tensor([[-2.2385,  2.2385]], device='cuda:0') [[0.09634916 0.9036508 ]]\n",
      "tensor([[-2.3300,  2.3300]], device='cuda:0') [[0.08867016 0.91132987]]\n",
      "tensor([[-1.9891,  1.9891]], device='cuda:0') [[0.12035123 0.8796488 ]]\n",
      "tensor([[-1.7381,  1.7381]], device='cuda:0') [[0.14955378 0.85044616]]\n",
      "tensor([[-2.2886,  2.2886]], device='cuda:0') [[0.09207393 0.9079261 ]]\n",
      "tensor([[-2.2991,  2.2991]], device='cuda:0') [[0.09119792 0.9088021 ]]\n",
      "tensor([[-2.3677,  2.3677]], device='cuda:0') [[0.08566833 0.9143317 ]]\n",
      "tensor([[-1.4319,  1.4319]], device='cuda:0') [[0.19279787 0.80720216]]\n",
      "tensor([[-1.4003,  1.4003]], device='cuda:0') [[0.19777577 0.8022243 ]]\n",
      "tensor([[-2.0727,  2.0727]], device='cuda:0') [[0.11177644 0.8882235 ]]\n",
      "tensor([[-1.9913,  1.9913]], device='cuda:0') [[0.12011614 0.8798839 ]]\n",
      "tensor([[-2.4541,  2.4541]], device='cuda:0') [[0.07914086 0.92085916]]\n",
      "tensor([[-2.1344,  2.1344]], device='cuda:0') [[0.10580193 0.89419806]]\n",
      "tensor([[-2.2102,  2.2102]], device='cuda:0') [[0.09883708 0.901163  ]]\n",
      "tensor([[-2.1377,  2.1377]], device='cuda:0') [[0.10548321 0.89451677]]\n",
      "tensor([[-2.2471,  2.2471]], device='cuda:0') [[0.09559561 0.90440446]]\n",
      "tensor([[-2.3065,  2.3065]], device='cuda:0') [[0.09058777 0.9094122 ]]\n",
      "tensor([[-2.6578,  2.6578]], device='cuda:0') [[0.06550705 0.9344929 ]]\n",
      "tensor([[-2.7216,  2.7216]], device='cuda:0') [[0.06170943 0.9382906 ]]\n",
      "tensor([[-2.7171,  2.7171]], device='cuda:0') [[0.06197245 0.93802756]]\n",
      "tensor([[-2.6782,  2.6782]], device='cuda:0') [[0.06427428 0.93572575]]\n",
      "tensor([[-2.5966,  2.5966]], device='cuda:0') [[0.06935627 0.9306437 ]]\n",
      "tensor([[-2.2991,  2.2991]], device='cuda:0') [[0.0912002  0.90879977]]\n",
      "tensor([[-2.4925,  2.4925]], device='cuda:0') [[0.07638425 0.92361575]]\n",
      "tensor([[-2.5930,  2.5930]], device='cuda:0') [[0.06958836 0.93041164]]\n",
      "tensor([[-2.4112,  2.4112]], device='cuda:0') [[0.0823222  0.91767776]]\n",
      "tensor([[-1.9755,  1.9755]], device='cuda:0') [[0.1218006 0.8781994]]\n",
      "tensor([[-2.4014,  2.4014]], device='cuda:0') [[0.08306808 0.91693187]]\n",
      "tensor([[-2.6912,  2.6912]], device='cuda:0') [[0.06349318 0.9365068 ]]\n",
      "tensor([[-2.9171,  2.9171]], device='cuda:0') [[0.05131608 0.94868386]]\n",
      "tensor([[-2.6235,  2.6235]], device='cuda:0') [[0.06764214 0.93235785]]\n",
      "tensor([[-3.2522,  3.2522]], device='cuda:0') [[0.03724704 0.96275294]]\n",
      "tensor([[-2.2236,  2.2236]], device='cuda:0') [[0.09765421 0.9023458 ]]\n",
      "tensor([[-3.1944,  3.1944]], device='cuda:0') [[0.03937678 0.96062326]]\n",
      "tensor([[-3.4045,  3.4045]], device='cuda:0') [[0.03215374 0.9678463 ]]\n",
      "tensor([[-3.0134,  3.0134]], device='cuda:0') [[0.04682526 0.95317477]]\n",
      "tensor([[-2.5118,  2.5118]], device='cuda:0') [[0.07503382 0.92496616]]\n"
     ]
    }
   ],
   "source": [
    "import chess.pgn\n",
    "from create_dataset import chess_board_to_text\n",
    "import io\n",
    "\n",
    "\n",
    "model = torch.load(\"model3-1.pt\")\n",
    "\n",
    "pgn = open(\"Nakamura.pgn\")\n",
    "\n",
    "game = chess.pgn.read_game(pgn)\n",
    "header = chess.pgn.read_headers(pgn)\n",
    "print(header)\n",
    "while not game.is_end():\n",
    "#game = game.end()\n",
    "    game = game.next()\n",
    "    tensor = chess_board_to_text(str(game.board()))\n",
    "    tensor.unsqueeze_(0)\n",
    "    with torch.no_grad():\n",
    "        predictions = model(tensor.to(device))\n",
    "        probabilities = F.sigmoid(predictions) \n",
    "        np_arr = probabilities.detach().cpu().numpy()\n",
    "        print(predictions, np_arr)"
   ],
   "metadata": {
    "collapsed": false,
    "ExecuteTime": {
     "end_time": "2024-06-23T04:48:57.720780Z",
     "start_time": "2024-06-23T04:48:57.447452Z"
    }
   },
   "id": "d58b7df98ffb5b1e",
   "execution_count": 55
  },
  {
   "cell_type": "code",
   "outputs": [],
   "source": [],
   "metadata": {
    "collapsed": false,
    "ExecuteTime": {
     "end_time": "2024-06-23T04:48:57.736594Z",
     "start_time": "2024-06-23T04:48:57.721781Z"
    }
   },
   "id": "7c79e1f3595e1abe",
   "execution_count": 55
  }
 ],
 "metadata": {
  "kernelspec": {
   "display_name": "Python 3 (ipykernel)",
   "language": "python",
   "name": "python3"
  },
  "language_info": {
   "codemirror_mode": {
    "name": "ipython",
    "version": 3
   },
   "file_extension": ".py",
   "mimetype": "text/x-python",
   "name": "python",
   "nbconvert_exporter": "python",
   "pygments_lexer": "ipython3",
   "version": "3.9.16"
  }
 },
 "nbformat": 4,
 "nbformat_minor": 5
}
